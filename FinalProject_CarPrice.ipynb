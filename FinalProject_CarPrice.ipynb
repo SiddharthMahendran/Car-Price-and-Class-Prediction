{
 "cells": [
  {
   "cell_type": "code",
   "execution_count": 10,
   "id": "c0c4f2bc",
   "metadata": {},
   "outputs": [],
   "source": [
    "import pandas as pd\n",
    "import numpy as np\n",
    "import seaborn as sns\n",
    "import matplotlib.pyplot as plt\n",
    "import warnings\n",
    "warnings.filterwarnings(\"ignore\")"
   ]
  },
  {
   "cell_type": "code",
   "execution_count": 11,
   "id": "1887cfa6",
   "metadata": {},
   "outputs": [],
   "source": [
    "df = pd.read_csv(\"S:\\\\GUVI\\\\PROJECTS\\\\FINAL PROJECT\\\\cars_price.csv\")"
   ]
  },
  {
   "cell_type": "code",
   "execution_count": 12,
   "id": "1d2c096a",
   "metadata": {},
   "outputs": [
    {
     "data": {
      "text/html": [
       "<div>\n",
       "<style scoped>\n",
       "    .dataframe tbody tr th:only-of-type {\n",
       "        vertical-align: middle;\n",
       "    }\n",
       "\n",
       "    .dataframe tbody tr th {\n",
       "        vertical-align: top;\n",
       "    }\n",
       "\n",
       "    .dataframe thead th {\n",
       "        text-align: right;\n",
       "    }\n",
       "</style>\n",
       "<table border=\"1\" class=\"dataframe\">\n",
       "  <thead>\n",
       "    <tr style=\"text-align: right;\">\n",
       "      <th></th>\n",
       "      <th>symboling</th>\n",
       "      <th>normalized-losses</th>\n",
       "      <th>make</th>\n",
       "      <th>fuel-type</th>\n",
       "      <th>aspiration</th>\n",
       "      <th>num-of-doors</th>\n",
       "      <th>body-style</th>\n",
       "      <th>drive-wheels</th>\n",
       "      <th>engine-location</th>\n",
       "      <th>wheel-base</th>\n",
       "      <th>...</th>\n",
       "      <th>engine-size</th>\n",
       "      <th>fuel-system</th>\n",
       "      <th>bore</th>\n",
       "      <th>stroke</th>\n",
       "      <th>compression-ratio</th>\n",
       "      <th>horsepower</th>\n",
       "      <th>peak-rpm</th>\n",
       "      <th>city-mpg</th>\n",
       "      <th>highway-mpg</th>\n",
       "      <th>price</th>\n",
       "    </tr>\n",
       "  </thead>\n",
       "  <tbody>\n",
       "    <tr>\n",
       "      <th>0</th>\n",
       "      <td>3</td>\n",
       "      <td>?</td>\n",
       "      <td>alfa-romero</td>\n",
       "      <td>gas</td>\n",
       "      <td>std</td>\n",
       "      <td>two</td>\n",
       "      <td>convertible</td>\n",
       "      <td>rwd</td>\n",
       "      <td>front</td>\n",
       "      <td>88.6</td>\n",
       "      <td>...</td>\n",
       "      <td>130</td>\n",
       "      <td>mpfi</td>\n",
       "      <td>3.47</td>\n",
       "      <td>2.68</td>\n",
       "      <td>9.0</td>\n",
       "      <td>111</td>\n",
       "      <td>5000</td>\n",
       "      <td>21</td>\n",
       "      <td>27</td>\n",
       "      <td>13495</td>\n",
       "    </tr>\n",
       "    <tr>\n",
       "      <th>1</th>\n",
       "      <td>3</td>\n",
       "      <td>?</td>\n",
       "      <td>alfa-romero</td>\n",
       "      <td>gas</td>\n",
       "      <td>std</td>\n",
       "      <td>two</td>\n",
       "      <td>convertible</td>\n",
       "      <td>rwd</td>\n",
       "      <td>front</td>\n",
       "      <td>88.6</td>\n",
       "      <td>...</td>\n",
       "      <td>130</td>\n",
       "      <td>mpfi</td>\n",
       "      <td>3.47</td>\n",
       "      <td>2.68</td>\n",
       "      <td>9.0</td>\n",
       "      <td>111</td>\n",
       "      <td>5000</td>\n",
       "      <td>21</td>\n",
       "      <td>27</td>\n",
       "      <td>16500</td>\n",
       "    </tr>\n",
       "    <tr>\n",
       "      <th>2</th>\n",
       "      <td>1</td>\n",
       "      <td>?</td>\n",
       "      <td>alfa-romero</td>\n",
       "      <td>gas</td>\n",
       "      <td>std</td>\n",
       "      <td>two</td>\n",
       "      <td>hatchback</td>\n",
       "      <td>rwd</td>\n",
       "      <td>front</td>\n",
       "      <td>94.5</td>\n",
       "      <td>...</td>\n",
       "      <td>152</td>\n",
       "      <td>mpfi</td>\n",
       "      <td>2.68</td>\n",
       "      <td>3.47</td>\n",
       "      <td>9.0</td>\n",
       "      <td>154</td>\n",
       "      <td>5000</td>\n",
       "      <td>19</td>\n",
       "      <td>26</td>\n",
       "      <td>16500</td>\n",
       "    </tr>\n",
       "    <tr>\n",
       "      <th>3</th>\n",
       "      <td>2</td>\n",
       "      <td>164</td>\n",
       "      <td>audi</td>\n",
       "      <td>gas</td>\n",
       "      <td>std</td>\n",
       "      <td>four</td>\n",
       "      <td>sedan</td>\n",
       "      <td>fwd</td>\n",
       "      <td>front</td>\n",
       "      <td>99.8</td>\n",
       "      <td>...</td>\n",
       "      <td>109</td>\n",
       "      <td>mpfi</td>\n",
       "      <td>3.19</td>\n",
       "      <td>3.4</td>\n",
       "      <td>10.0</td>\n",
       "      <td>102</td>\n",
       "      <td>5500</td>\n",
       "      <td>24</td>\n",
       "      <td>30</td>\n",
       "      <td>13950</td>\n",
       "    </tr>\n",
       "    <tr>\n",
       "      <th>4</th>\n",
       "      <td>2</td>\n",
       "      <td>164</td>\n",
       "      <td>audi</td>\n",
       "      <td>gas</td>\n",
       "      <td>std</td>\n",
       "      <td>four</td>\n",
       "      <td>sedan</td>\n",
       "      <td>4wd</td>\n",
       "      <td>front</td>\n",
       "      <td>99.4</td>\n",
       "      <td>...</td>\n",
       "      <td>136</td>\n",
       "      <td>mpfi</td>\n",
       "      <td>3.19</td>\n",
       "      <td>3.4</td>\n",
       "      <td>8.0</td>\n",
       "      <td>115</td>\n",
       "      <td>5500</td>\n",
       "      <td>18</td>\n",
       "      <td>22</td>\n",
       "      <td>17450</td>\n",
       "    </tr>\n",
       "  </tbody>\n",
       "</table>\n",
       "<p>5 rows × 26 columns</p>\n",
       "</div>"
      ],
      "text/plain": [
       "   symboling normalized-losses         make fuel-type aspiration num-of-doors  \\\n",
       "0          3                 ?  alfa-romero       gas        std          two   \n",
       "1          3                 ?  alfa-romero       gas        std          two   \n",
       "2          1                 ?  alfa-romero       gas        std          two   \n",
       "3          2               164         audi       gas        std         four   \n",
       "4          2               164         audi       gas        std         four   \n",
       "\n",
       "    body-style drive-wheels engine-location  wheel-base  ...  engine-size  \\\n",
       "0  convertible          rwd           front        88.6  ...          130   \n",
       "1  convertible          rwd           front        88.6  ...          130   \n",
       "2    hatchback          rwd           front        94.5  ...          152   \n",
       "3        sedan          fwd           front        99.8  ...          109   \n",
       "4        sedan          4wd           front        99.4  ...          136   \n",
       "\n",
       "   fuel-system  bore  stroke compression-ratio horsepower  peak-rpm city-mpg  \\\n",
       "0         mpfi  3.47    2.68               9.0        111      5000       21   \n",
       "1         mpfi  3.47    2.68               9.0        111      5000       21   \n",
       "2         mpfi  2.68    3.47               9.0        154      5000       19   \n",
       "3         mpfi  3.19     3.4              10.0        102      5500       24   \n",
       "4         mpfi  3.19     3.4               8.0        115      5500       18   \n",
       "\n",
       "  highway-mpg  price  \n",
       "0          27  13495  \n",
       "1          27  16500  \n",
       "2          26  16500  \n",
       "3          30  13950  \n",
       "4          22  17450  \n",
       "\n",
       "[5 rows x 26 columns]"
      ]
     },
     "execution_count": 12,
     "metadata": {},
     "output_type": "execute_result"
    }
   ],
   "source": [
    "df.head(5)"
   ]
  },
  {
   "cell_type": "code",
   "execution_count": 13,
   "id": "a3e4aa2d",
   "metadata": {},
   "outputs": [
    {
     "data": {
      "text/plain": [
       "symboling              6\n",
       "normalized-losses     52\n",
       "make                  22\n",
       "fuel-type              2\n",
       "aspiration             2\n",
       "num-of-doors           3\n",
       "body-style             5\n",
       "drive-wheels           3\n",
       "engine-location        2\n",
       "wheel-base            53\n",
       "length                75\n",
       "width                 44\n",
       "height                49\n",
       "curb-weight          171\n",
       "engine-type            7\n",
       "num-of-cylinders       7\n",
       "engine-size           44\n",
       "fuel-system            8\n",
       "bore                  39\n",
       "stroke                37\n",
       "compression-ratio     32\n",
       "horsepower            60\n",
       "peak-rpm              24\n",
       "city-mpg              29\n",
       "highway-mpg           30\n",
       "price                187\n",
       "dtype: int64"
      ]
     },
     "execution_count": 13,
     "metadata": {},
     "output_type": "execute_result"
    }
   ],
   "source": [
    "df.nunique()"
   ]
  },
  {
   "cell_type": "code",
   "execution_count": 14,
   "id": "6a68e92a",
   "metadata": {},
   "outputs": [
    {
     "data": {
      "text/plain": [
       "<bound method DataFrame.info of      symboling normalized-losses         make fuel-type aspiration  \\\n",
       "0            3                 ?  alfa-romero       gas        std   \n",
       "1            3                 ?  alfa-romero       gas        std   \n",
       "2            1                 ?  alfa-romero       gas        std   \n",
       "3            2               164         audi       gas        std   \n",
       "4            2               164         audi       gas        std   \n",
       "..         ...               ...          ...       ...        ...   \n",
       "200         -1                95        volvo       gas        std   \n",
       "201         -1                95        volvo       gas      turbo   \n",
       "202         -1                95        volvo       gas        std   \n",
       "203         -1                95        volvo    diesel      turbo   \n",
       "204         -1                95        volvo       gas      turbo   \n",
       "\n",
       "    num-of-doors   body-style drive-wheels engine-location  wheel-base  ...  \\\n",
       "0            two  convertible          rwd           front        88.6  ...   \n",
       "1            two  convertible          rwd           front        88.6  ...   \n",
       "2            two    hatchback          rwd           front        94.5  ...   \n",
       "3           four        sedan          fwd           front        99.8  ...   \n",
       "4           four        sedan          4wd           front        99.4  ...   \n",
       "..           ...          ...          ...             ...         ...  ...   \n",
       "200         four        sedan          rwd           front       109.1  ...   \n",
       "201         four        sedan          rwd           front       109.1  ...   \n",
       "202         four        sedan          rwd           front       109.1  ...   \n",
       "203         four        sedan          rwd           front       109.1  ...   \n",
       "204         four        sedan          rwd           front       109.1  ...   \n",
       "\n",
       "     engine-size  fuel-system  bore  stroke compression-ratio horsepower  \\\n",
       "0            130         mpfi  3.47    2.68               9.0        111   \n",
       "1            130         mpfi  3.47    2.68               9.0        111   \n",
       "2            152         mpfi  2.68    3.47               9.0        154   \n",
       "3            109         mpfi  3.19     3.4              10.0        102   \n",
       "4            136         mpfi  3.19     3.4               8.0        115   \n",
       "..           ...          ...   ...     ...               ...        ...   \n",
       "200          141         mpfi  3.78    3.15               9.5        114   \n",
       "201          141         mpfi  3.78    3.15               8.7        160   \n",
       "202          173         mpfi  3.58    2.87               8.8        134   \n",
       "203          145          idi  3.01     3.4              23.0        106   \n",
       "204          141         mpfi  3.78    3.15               9.5        114   \n",
       "\n",
       "     peak-rpm city-mpg highway-mpg  price  \n",
       "0        5000       21          27  13495  \n",
       "1        5000       21          27  16500  \n",
       "2        5000       19          26  16500  \n",
       "3        5500       24          30  13950  \n",
       "4        5500       18          22  17450  \n",
       "..        ...      ...         ...    ...  \n",
       "200      5400       23          28  16845  \n",
       "201      5300       19          25  19045  \n",
       "202      5500       18          23  21485  \n",
       "203      4800       26          27  22470  \n",
       "204      5400       19          25  22625  \n",
       "\n",
       "[205 rows x 26 columns]>"
      ]
     },
     "execution_count": 14,
     "metadata": {},
     "output_type": "execute_result"
    }
   ],
   "source": [
    "df.info"
   ]
  },
  {
   "cell_type": "code",
   "execution_count": 15,
   "id": "88e755a5",
   "metadata": {},
   "outputs": [
    {
     "data": {
      "text/plain": [
       "symboling            0\n",
       "normalized-losses    0\n",
       "make                 0\n",
       "fuel-type            0\n",
       "aspiration           0\n",
       "num-of-doors         0\n",
       "body-style           0\n",
       "drive-wheels         0\n",
       "engine-location      0\n",
       "wheel-base           0\n",
       "length               0\n",
       "width                0\n",
       "height               0\n",
       "curb-weight          0\n",
       "engine-type          0\n",
       "num-of-cylinders     0\n",
       "engine-size          0\n",
       "fuel-system          0\n",
       "bore                 0\n",
       "stroke               0\n",
       "compression-ratio    0\n",
       "horsepower           0\n",
       "peak-rpm             0\n",
       "city-mpg             0\n",
       "highway-mpg          0\n",
       "price                0\n",
       "dtype: int64"
      ]
     },
     "execution_count": 15,
     "metadata": {},
     "output_type": "execute_result"
    }
   ],
   "source": [
    "df.isnull().sum()"
   ]
  },
  {
   "cell_type": "code",
   "execution_count": 16,
   "id": "8673a144",
   "metadata": {},
   "outputs": [
    {
     "data": {
      "text/plain": [
       "Index(['symboling', 'normalized-losses', 'make', 'fuel-type', 'aspiration',\n",
       "       'num-of-doors', 'body-style', 'drive-wheels', 'engine-location',\n",
       "       'wheel-base', 'length', 'width', 'height', 'curb-weight', 'engine-type',\n",
       "       'num-of-cylinders', 'engine-size', 'fuel-system', 'bore', 'stroke',\n",
       "       'compression-ratio', 'horsepower', 'peak-rpm', 'city-mpg',\n",
       "       'highway-mpg', 'price'],\n",
       "      dtype='object')"
      ]
     },
     "execution_count": 16,
     "metadata": {},
     "output_type": "execute_result"
    }
   ],
   "source": [
    "df.columns"
   ]
  },
  {
   "cell_type": "code",
   "execution_count": 17,
   "id": "c65b1008",
   "metadata": {},
   "outputs": [
    {
     "data": {
      "text/plain": [
       "symboling              int64\n",
       "normalized-losses     object\n",
       "make                  object\n",
       "fuel-type             object\n",
       "aspiration            object\n",
       "num-of-doors          object\n",
       "body-style            object\n",
       "drive-wheels          object\n",
       "engine-location       object\n",
       "wheel-base           float64\n",
       "length               float64\n",
       "width                float64\n",
       "height               float64\n",
       "curb-weight            int64\n",
       "engine-type           object\n",
       "num-of-cylinders      object\n",
       "engine-size            int64\n",
       "fuel-system           object\n",
       "bore                  object\n",
       "stroke                object\n",
       "compression-ratio    float64\n",
       "horsepower            object\n",
       "peak-rpm              object\n",
       "city-mpg               int64\n",
       "highway-mpg            int64\n",
       "price                 object\n",
       "dtype: object"
      ]
     },
     "execution_count": 17,
     "metadata": {},
     "output_type": "execute_result"
    }
   ],
   "source": [
    "df.dtypes"
   ]
  },
  {
   "cell_type": "code",
   "execution_count": 18,
   "id": "57ea23ea",
   "metadata": {},
   "outputs": [
    {
     "data": {
      "text/plain": [
       " 0    67\n",
       " 1    54\n",
       " 2    32\n",
       " 3    27\n",
       "-1    22\n",
       "-2     3\n",
       "Name: symboling, dtype: int64"
      ]
     },
     "execution_count": 18,
     "metadata": {},
     "output_type": "execute_result"
    }
   ],
   "source": [
    "df.symboling.value_counts()"
   ]
  },
  {
   "cell_type": "code",
   "execution_count": 19,
   "id": "560e5ead",
   "metadata": {},
   "outputs": [],
   "source": [
    "df.replace('?', np.nan, inplace = True)"
   ]
  },
  {
   "cell_type": "code",
   "execution_count": 20,
   "id": "1e65c925",
   "metadata": {},
   "outputs": [
    {
     "data": {
      "text/html": [
       "<div>\n",
       "<style scoped>\n",
       "    .dataframe tbody tr th:only-of-type {\n",
       "        vertical-align: middle;\n",
       "    }\n",
       "\n",
       "    .dataframe tbody tr th {\n",
       "        vertical-align: top;\n",
       "    }\n",
       "\n",
       "    .dataframe thead th {\n",
       "        text-align: right;\n",
       "    }\n",
       "</style>\n",
       "<table border=\"1\" class=\"dataframe\">\n",
       "  <thead>\n",
       "    <tr style=\"text-align: right;\">\n",
       "      <th></th>\n",
       "      <th>symboling</th>\n",
       "      <th>normalized-losses</th>\n",
       "      <th>make</th>\n",
       "      <th>fuel-type</th>\n",
       "      <th>aspiration</th>\n",
       "      <th>num-of-doors</th>\n",
       "      <th>body-style</th>\n",
       "      <th>drive-wheels</th>\n",
       "      <th>engine-location</th>\n",
       "      <th>wheel-base</th>\n",
       "      <th>...</th>\n",
       "      <th>engine-size</th>\n",
       "      <th>fuel-system</th>\n",
       "      <th>bore</th>\n",
       "      <th>stroke</th>\n",
       "      <th>compression-ratio</th>\n",
       "      <th>horsepower</th>\n",
       "      <th>peak-rpm</th>\n",
       "      <th>city-mpg</th>\n",
       "      <th>highway-mpg</th>\n",
       "      <th>price</th>\n",
       "    </tr>\n",
       "  </thead>\n",
       "  <tbody>\n",
       "    <tr>\n",
       "      <th>0</th>\n",
       "      <td>3</td>\n",
       "      <td>NaN</td>\n",
       "      <td>alfa-romero</td>\n",
       "      <td>gas</td>\n",
       "      <td>std</td>\n",
       "      <td>two</td>\n",
       "      <td>convertible</td>\n",
       "      <td>rwd</td>\n",
       "      <td>front</td>\n",
       "      <td>88.6</td>\n",
       "      <td>...</td>\n",
       "      <td>130</td>\n",
       "      <td>mpfi</td>\n",
       "      <td>3.47</td>\n",
       "      <td>2.68</td>\n",
       "      <td>9.0</td>\n",
       "      <td>111</td>\n",
       "      <td>5000</td>\n",
       "      <td>21</td>\n",
       "      <td>27</td>\n",
       "      <td>13495</td>\n",
       "    </tr>\n",
       "    <tr>\n",
       "      <th>1</th>\n",
       "      <td>3</td>\n",
       "      <td>NaN</td>\n",
       "      <td>alfa-romero</td>\n",
       "      <td>gas</td>\n",
       "      <td>std</td>\n",
       "      <td>two</td>\n",
       "      <td>convertible</td>\n",
       "      <td>rwd</td>\n",
       "      <td>front</td>\n",
       "      <td>88.6</td>\n",
       "      <td>...</td>\n",
       "      <td>130</td>\n",
       "      <td>mpfi</td>\n",
       "      <td>3.47</td>\n",
       "      <td>2.68</td>\n",
       "      <td>9.0</td>\n",
       "      <td>111</td>\n",
       "      <td>5000</td>\n",
       "      <td>21</td>\n",
       "      <td>27</td>\n",
       "      <td>16500</td>\n",
       "    </tr>\n",
       "    <tr>\n",
       "      <th>2</th>\n",
       "      <td>1</td>\n",
       "      <td>NaN</td>\n",
       "      <td>alfa-romero</td>\n",
       "      <td>gas</td>\n",
       "      <td>std</td>\n",
       "      <td>two</td>\n",
       "      <td>hatchback</td>\n",
       "      <td>rwd</td>\n",
       "      <td>front</td>\n",
       "      <td>94.5</td>\n",
       "      <td>...</td>\n",
       "      <td>152</td>\n",
       "      <td>mpfi</td>\n",
       "      <td>2.68</td>\n",
       "      <td>3.47</td>\n",
       "      <td>9.0</td>\n",
       "      <td>154</td>\n",
       "      <td>5000</td>\n",
       "      <td>19</td>\n",
       "      <td>26</td>\n",
       "      <td>16500</td>\n",
       "    </tr>\n",
       "    <tr>\n",
       "      <th>3</th>\n",
       "      <td>2</td>\n",
       "      <td>164</td>\n",
       "      <td>audi</td>\n",
       "      <td>gas</td>\n",
       "      <td>std</td>\n",
       "      <td>four</td>\n",
       "      <td>sedan</td>\n",
       "      <td>fwd</td>\n",
       "      <td>front</td>\n",
       "      <td>99.8</td>\n",
       "      <td>...</td>\n",
       "      <td>109</td>\n",
       "      <td>mpfi</td>\n",
       "      <td>3.19</td>\n",
       "      <td>3.4</td>\n",
       "      <td>10.0</td>\n",
       "      <td>102</td>\n",
       "      <td>5500</td>\n",
       "      <td>24</td>\n",
       "      <td>30</td>\n",
       "      <td>13950</td>\n",
       "    </tr>\n",
       "    <tr>\n",
       "      <th>4</th>\n",
       "      <td>2</td>\n",
       "      <td>164</td>\n",
       "      <td>audi</td>\n",
       "      <td>gas</td>\n",
       "      <td>std</td>\n",
       "      <td>four</td>\n",
       "      <td>sedan</td>\n",
       "      <td>4wd</td>\n",
       "      <td>front</td>\n",
       "      <td>99.4</td>\n",
       "      <td>...</td>\n",
       "      <td>136</td>\n",
       "      <td>mpfi</td>\n",
       "      <td>3.19</td>\n",
       "      <td>3.4</td>\n",
       "      <td>8.0</td>\n",
       "      <td>115</td>\n",
       "      <td>5500</td>\n",
       "      <td>18</td>\n",
       "      <td>22</td>\n",
       "      <td>17450</td>\n",
       "    </tr>\n",
       "    <tr>\n",
       "      <th>...</th>\n",
       "      <td>...</td>\n",
       "      <td>...</td>\n",
       "      <td>...</td>\n",
       "      <td>...</td>\n",
       "      <td>...</td>\n",
       "      <td>...</td>\n",
       "      <td>...</td>\n",
       "      <td>...</td>\n",
       "      <td>...</td>\n",
       "      <td>...</td>\n",
       "      <td>...</td>\n",
       "      <td>...</td>\n",
       "      <td>...</td>\n",
       "      <td>...</td>\n",
       "      <td>...</td>\n",
       "      <td>...</td>\n",
       "      <td>...</td>\n",
       "      <td>...</td>\n",
       "      <td>...</td>\n",
       "      <td>...</td>\n",
       "      <td>...</td>\n",
       "    </tr>\n",
       "    <tr>\n",
       "      <th>200</th>\n",
       "      <td>-1</td>\n",
       "      <td>95</td>\n",
       "      <td>volvo</td>\n",
       "      <td>gas</td>\n",
       "      <td>std</td>\n",
       "      <td>four</td>\n",
       "      <td>sedan</td>\n",
       "      <td>rwd</td>\n",
       "      <td>front</td>\n",
       "      <td>109.1</td>\n",
       "      <td>...</td>\n",
       "      <td>141</td>\n",
       "      <td>mpfi</td>\n",
       "      <td>3.78</td>\n",
       "      <td>3.15</td>\n",
       "      <td>9.5</td>\n",
       "      <td>114</td>\n",
       "      <td>5400</td>\n",
       "      <td>23</td>\n",
       "      <td>28</td>\n",
       "      <td>16845</td>\n",
       "    </tr>\n",
       "    <tr>\n",
       "      <th>201</th>\n",
       "      <td>-1</td>\n",
       "      <td>95</td>\n",
       "      <td>volvo</td>\n",
       "      <td>gas</td>\n",
       "      <td>turbo</td>\n",
       "      <td>four</td>\n",
       "      <td>sedan</td>\n",
       "      <td>rwd</td>\n",
       "      <td>front</td>\n",
       "      <td>109.1</td>\n",
       "      <td>...</td>\n",
       "      <td>141</td>\n",
       "      <td>mpfi</td>\n",
       "      <td>3.78</td>\n",
       "      <td>3.15</td>\n",
       "      <td>8.7</td>\n",
       "      <td>160</td>\n",
       "      <td>5300</td>\n",
       "      <td>19</td>\n",
       "      <td>25</td>\n",
       "      <td>19045</td>\n",
       "    </tr>\n",
       "    <tr>\n",
       "      <th>202</th>\n",
       "      <td>-1</td>\n",
       "      <td>95</td>\n",
       "      <td>volvo</td>\n",
       "      <td>gas</td>\n",
       "      <td>std</td>\n",
       "      <td>four</td>\n",
       "      <td>sedan</td>\n",
       "      <td>rwd</td>\n",
       "      <td>front</td>\n",
       "      <td>109.1</td>\n",
       "      <td>...</td>\n",
       "      <td>173</td>\n",
       "      <td>mpfi</td>\n",
       "      <td>3.58</td>\n",
       "      <td>2.87</td>\n",
       "      <td>8.8</td>\n",
       "      <td>134</td>\n",
       "      <td>5500</td>\n",
       "      <td>18</td>\n",
       "      <td>23</td>\n",
       "      <td>21485</td>\n",
       "    </tr>\n",
       "    <tr>\n",
       "      <th>203</th>\n",
       "      <td>-1</td>\n",
       "      <td>95</td>\n",
       "      <td>volvo</td>\n",
       "      <td>diesel</td>\n",
       "      <td>turbo</td>\n",
       "      <td>four</td>\n",
       "      <td>sedan</td>\n",
       "      <td>rwd</td>\n",
       "      <td>front</td>\n",
       "      <td>109.1</td>\n",
       "      <td>...</td>\n",
       "      <td>145</td>\n",
       "      <td>idi</td>\n",
       "      <td>3.01</td>\n",
       "      <td>3.4</td>\n",
       "      <td>23.0</td>\n",
       "      <td>106</td>\n",
       "      <td>4800</td>\n",
       "      <td>26</td>\n",
       "      <td>27</td>\n",
       "      <td>22470</td>\n",
       "    </tr>\n",
       "    <tr>\n",
       "      <th>204</th>\n",
       "      <td>-1</td>\n",
       "      <td>95</td>\n",
       "      <td>volvo</td>\n",
       "      <td>gas</td>\n",
       "      <td>turbo</td>\n",
       "      <td>four</td>\n",
       "      <td>sedan</td>\n",
       "      <td>rwd</td>\n",
       "      <td>front</td>\n",
       "      <td>109.1</td>\n",
       "      <td>...</td>\n",
       "      <td>141</td>\n",
       "      <td>mpfi</td>\n",
       "      <td>3.78</td>\n",
       "      <td>3.15</td>\n",
       "      <td>9.5</td>\n",
       "      <td>114</td>\n",
       "      <td>5400</td>\n",
       "      <td>19</td>\n",
       "      <td>25</td>\n",
       "      <td>22625</td>\n",
       "    </tr>\n",
       "  </tbody>\n",
       "</table>\n",
       "<p>205 rows × 26 columns</p>\n",
       "</div>"
      ],
      "text/plain": [
       "     symboling normalized-losses         make fuel-type aspiration  \\\n",
       "0            3               NaN  alfa-romero       gas        std   \n",
       "1            3               NaN  alfa-romero       gas        std   \n",
       "2            1               NaN  alfa-romero       gas        std   \n",
       "3            2               164         audi       gas        std   \n",
       "4            2               164         audi       gas        std   \n",
       "..         ...               ...          ...       ...        ...   \n",
       "200         -1                95        volvo       gas        std   \n",
       "201         -1                95        volvo       gas      turbo   \n",
       "202         -1                95        volvo       gas        std   \n",
       "203         -1                95        volvo    diesel      turbo   \n",
       "204         -1                95        volvo       gas      turbo   \n",
       "\n",
       "    num-of-doors   body-style drive-wheels engine-location  wheel-base  ...  \\\n",
       "0            two  convertible          rwd           front        88.6  ...   \n",
       "1            two  convertible          rwd           front        88.6  ...   \n",
       "2            two    hatchback          rwd           front        94.5  ...   \n",
       "3           four        sedan          fwd           front        99.8  ...   \n",
       "4           four        sedan          4wd           front        99.4  ...   \n",
       "..           ...          ...          ...             ...         ...  ...   \n",
       "200         four        sedan          rwd           front       109.1  ...   \n",
       "201         four        sedan          rwd           front       109.1  ...   \n",
       "202         four        sedan          rwd           front       109.1  ...   \n",
       "203         four        sedan          rwd           front       109.1  ...   \n",
       "204         four        sedan          rwd           front       109.1  ...   \n",
       "\n",
       "     engine-size  fuel-system  bore  stroke compression-ratio horsepower  \\\n",
       "0            130         mpfi  3.47    2.68               9.0        111   \n",
       "1            130         mpfi  3.47    2.68               9.0        111   \n",
       "2            152         mpfi  2.68    3.47               9.0        154   \n",
       "3            109         mpfi  3.19     3.4              10.0        102   \n",
       "4            136         mpfi  3.19     3.4               8.0        115   \n",
       "..           ...          ...   ...     ...               ...        ...   \n",
       "200          141         mpfi  3.78    3.15               9.5        114   \n",
       "201          141         mpfi  3.78    3.15               8.7        160   \n",
       "202          173         mpfi  3.58    2.87               8.8        134   \n",
       "203          145          idi  3.01     3.4              23.0        106   \n",
       "204          141         mpfi  3.78    3.15               9.5        114   \n",
       "\n",
       "     peak-rpm city-mpg highway-mpg  price  \n",
       "0        5000       21          27  13495  \n",
       "1        5000       21          27  16500  \n",
       "2        5000       19          26  16500  \n",
       "3        5500       24          30  13950  \n",
       "4        5500       18          22  17450  \n",
       "..        ...      ...         ...    ...  \n",
       "200      5400       23          28  16845  \n",
       "201      5300       19          25  19045  \n",
       "202      5500       18          23  21485  \n",
       "203      4800       26          27  22470  \n",
       "204      5400       19          25  22625  \n",
       "\n",
       "[205 rows x 26 columns]"
      ]
     },
     "execution_count": 20,
     "metadata": {},
     "output_type": "execute_result"
    }
   ],
   "source": [
    "df"
   ]
  },
  {
   "cell_type": "code",
   "execution_count": 21,
   "id": "16b9c75c",
   "metadata": {},
   "outputs": [
    {
     "name": "stdout",
     "output_type": "stream",
     "text": [
      "<class 'pandas.core.frame.DataFrame'>\n",
      "RangeIndex: 205 entries, 0 to 204\n",
      "Data columns (total 26 columns):\n",
      " #   Column             Non-Null Count  Dtype  \n",
      "---  ------             --------------  -----  \n",
      " 0   symboling          205 non-null    int64  \n",
      " 1   normalized-losses  164 non-null    object \n",
      " 2   make               205 non-null    object \n",
      " 3   fuel-type          205 non-null    object \n",
      " 4   aspiration         205 non-null    object \n",
      " 5   num-of-doors       203 non-null    object \n",
      " 6   body-style         205 non-null    object \n",
      " 7   drive-wheels       205 non-null    object \n",
      " 8   engine-location    205 non-null    object \n",
      " 9   wheel-base         205 non-null    float64\n",
      " 10  length             205 non-null    float64\n",
      " 11  width              205 non-null    float64\n",
      " 12  height             205 non-null    float64\n",
      " 13  curb-weight        205 non-null    int64  \n",
      " 14  engine-type        205 non-null    object \n",
      " 15  num-of-cylinders   205 non-null    object \n",
      " 16  engine-size        205 non-null    int64  \n",
      " 17  fuel-system        205 non-null    object \n",
      " 18  bore               201 non-null    object \n",
      " 19  stroke             201 non-null    object \n",
      " 20  compression-ratio  205 non-null    float64\n",
      " 21  horsepower         203 non-null    object \n",
      " 22  peak-rpm           203 non-null    object \n",
      " 23  city-mpg           205 non-null    int64  \n",
      " 24  highway-mpg        205 non-null    int64  \n",
      " 25  price              201 non-null    object \n",
      "dtypes: float64(5), int64(5), object(16)\n",
      "memory usage: 41.8+ KB\n"
     ]
    }
   ],
   "source": [
    "df.info()"
   ]
  },
  {
   "cell_type": "code",
   "execution_count": 23,
   "id": "693a9912",
   "metadata": {},
   "outputs": [
    {
     "data": {
      "text/html": [
       "<div>\n",
       "<style scoped>\n",
       "    .dataframe tbody tr th:only-of-type {\n",
       "        vertical-align: middle;\n",
       "    }\n",
       "\n",
       "    .dataframe tbody tr th {\n",
       "        vertical-align: top;\n",
       "    }\n",
       "\n",
       "    .dataframe thead th {\n",
       "        text-align: right;\n",
       "    }\n",
       "</style>\n",
       "<table border=\"1\" class=\"dataframe\">\n",
       "  <thead>\n",
       "    <tr style=\"text-align: right;\">\n",
       "      <th></th>\n",
       "      <th>count</th>\n",
       "      <th>mean</th>\n",
       "      <th>std</th>\n",
       "      <th>min</th>\n",
       "      <th>25%</th>\n",
       "      <th>50%</th>\n",
       "      <th>75%</th>\n",
       "      <th>max</th>\n",
       "    </tr>\n",
       "  </thead>\n",
       "  <tbody>\n",
       "    <tr>\n",
       "      <th>symboling</th>\n",
       "      <td>205.0</td>\n",
       "      <td>0.834146</td>\n",
       "      <td>1.245307</td>\n",
       "      <td>-2.0</td>\n",
       "      <td>0.0</td>\n",
       "      <td>1.0</td>\n",
       "      <td>2.0</td>\n",
       "      <td>3.0</td>\n",
       "    </tr>\n",
       "    <tr>\n",
       "      <th>wheel-base</th>\n",
       "      <td>205.0</td>\n",
       "      <td>98.756585</td>\n",
       "      <td>6.021776</td>\n",
       "      <td>86.6</td>\n",
       "      <td>94.5</td>\n",
       "      <td>97.0</td>\n",
       "      <td>102.4</td>\n",
       "      <td>120.9</td>\n",
       "    </tr>\n",
       "    <tr>\n",
       "      <th>length</th>\n",
       "      <td>205.0</td>\n",
       "      <td>174.049268</td>\n",
       "      <td>12.337289</td>\n",
       "      <td>141.1</td>\n",
       "      <td>166.3</td>\n",
       "      <td>173.2</td>\n",
       "      <td>183.1</td>\n",
       "      <td>208.1</td>\n",
       "    </tr>\n",
       "    <tr>\n",
       "      <th>width</th>\n",
       "      <td>205.0</td>\n",
       "      <td>65.907805</td>\n",
       "      <td>2.145204</td>\n",
       "      <td>60.3</td>\n",
       "      <td>64.1</td>\n",
       "      <td>65.5</td>\n",
       "      <td>66.9</td>\n",
       "      <td>72.3</td>\n",
       "    </tr>\n",
       "    <tr>\n",
       "      <th>height</th>\n",
       "      <td>205.0</td>\n",
       "      <td>53.724878</td>\n",
       "      <td>2.443522</td>\n",
       "      <td>47.8</td>\n",
       "      <td>52.0</td>\n",
       "      <td>54.1</td>\n",
       "      <td>55.5</td>\n",
       "      <td>59.8</td>\n",
       "    </tr>\n",
       "    <tr>\n",
       "      <th>curb-weight</th>\n",
       "      <td>205.0</td>\n",
       "      <td>2555.565854</td>\n",
       "      <td>520.680204</td>\n",
       "      <td>1488.0</td>\n",
       "      <td>2145.0</td>\n",
       "      <td>2414.0</td>\n",
       "      <td>2935.0</td>\n",
       "      <td>4066.0</td>\n",
       "    </tr>\n",
       "    <tr>\n",
       "      <th>engine-size</th>\n",
       "      <td>205.0</td>\n",
       "      <td>126.907317</td>\n",
       "      <td>41.642693</td>\n",
       "      <td>61.0</td>\n",
       "      <td>97.0</td>\n",
       "      <td>120.0</td>\n",
       "      <td>141.0</td>\n",
       "      <td>326.0</td>\n",
       "    </tr>\n",
       "    <tr>\n",
       "      <th>compression-ratio</th>\n",
       "      <td>205.0</td>\n",
       "      <td>10.142537</td>\n",
       "      <td>3.972040</td>\n",
       "      <td>7.0</td>\n",
       "      <td>8.6</td>\n",
       "      <td>9.0</td>\n",
       "      <td>9.4</td>\n",
       "      <td>23.0</td>\n",
       "    </tr>\n",
       "    <tr>\n",
       "      <th>city-mpg</th>\n",
       "      <td>205.0</td>\n",
       "      <td>25.219512</td>\n",
       "      <td>6.542142</td>\n",
       "      <td>13.0</td>\n",
       "      <td>19.0</td>\n",
       "      <td>24.0</td>\n",
       "      <td>30.0</td>\n",
       "      <td>49.0</td>\n",
       "    </tr>\n",
       "    <tr>\n",
       "      <th>highway-mpg</th>\n",
       "      <td>205.0</td>\n",
       "      <td>30.751220</td>\n",
       "      <td>6.886443</td>\n",
       "      <td>16.0</td>\n",
       "      <td>25.0</td>\n",
       "      <td>30.0</td>\n",
       "      <td>34.0</td>\n",
       "      <td>54.0</td>\n",
       "    </tr>\n",
       "  </tbody>\n",
       "</table>\n",
       "</div>"
      ],
      "text/plain": [
       "                   count         mean         std     min     25%     50%  \\\n",
       "symboling          205.0     0.834146    1.245307    -2.0     0.0     1.0   \n",
       "wheel-base         205.0    98.756585    6.021776    86.6    94.5    97.0   \n",
       "length             205.0   174.049268   12.337289   141.1   166.3   173.2   \n",
       "width              205.0    65.907805    2.145204    60.3    64.1    65.5   \n",
       "height             205.0    53.724878    2.443522    47.8    52.0    54.1   \n",
       "curb-weight        205.0  2555.565854  520.680204  1488.0  2145.0  2414.0   \n",
       "engine-size        205.0   126.907317   41.642693    61.0    97.0   120.0   \n",
       "compression-ratio  205.0    10.142537    3.972040     7.0     8.6     9.0   \n",
       "city-mpg           205.0    25.219512    6.542142    13.0    19.0    24.0   \n",
       "highway-mpg        205.0    30.751220    6.886443    16.0    25.0    30.0   \n",
       "\n",
       "                      75%     max  \n",
       "symboling             2.0     3.0  \n",
       "wheel-base          102.4   120.9  \n",
       "length              183.1   208.1  \n",
       "width                66.9    72.3  \n",
       "height               55.5    59.8  \n",
       "curb-weight        2935.0  4066.0  \n",
       "engine-size         141.0   326.0  \n",
       "compression-ratio     9.4    23.0  \n",
       "city-mpg             30.0    49.0  \n",
       "highway-mpg          34.0    54.0  "
      ]
     },
     "execution_count": 23,
     "metadata": {},
     "output_type": "execute_result"
    }
   ],
   "source": [
    "df.describe().T"
   ]
  },
  {
   "cell_type": "code",
   "execution_count": 24,
   "id": "25f61199",
   "metadata": {},
   "outputs": [],
   "source": [
    "df['price']=pd.to_numeric(df['price'])\n",
    "df['normalized-losses']=pd.to_numeric(df['normalized-losses'])\n",
    "df['bore']=pd.to_numeric(df['bore'])\n",
    "df['stroke']=pd.to_numeric(df['stroke'])\n",
    "df['horsepower']=pd.to_numeric(df['horsepower'])\n",
    "df['peak-rpm']=pd.to_numeric(df['peak-rpm'])"
   ]
  },
  {
   "cell_type": "code",
   "execution_count": 25,
   "id": "3fec4540",
   "metadata": {},
   "outputs": [
    {
     "name": "stdout",
     "output_type": "stream",
     "text": [
      "<class 'pandas.core.frame.DataFrame'>\n",
      "RangeIndex: 205 entries, 0 to 204\n",
      "Data columns (total 26 columns):\n",
      " #   Column             Non-Null Count  Dtype  \n",
      "---  ------             --------------  -----  \n",
      " 0   symboling          205 non-null    int64  \n",
      " 1   normalized-losses  164 non-null    float64\n",
      " 2   make               205 non-null    object \n",
      " 3   fuel-type          205 non-null    object \n",
      " 4   aspiration         205 non-null    object \n",
      " 5   num-of-doors       203 non-null    object \n",
      " 6   body-style         205 non-null    object \n",
      " 7   drive-wheels       205 non-null    object \n",
      " 8   engine-location    205 non-null    object \n",
      " 9   wheel-base         205 non-null    float64\n",
      " 10  length             205 non-null    float64\n",
      " 11  width              205 non-null    float64\n",
      " 12  height             205 non-null    float64\n",
      " 13  curb-weight        205 non-null    int64  \n",
      " 14  engine-type        205 non-null    object \n",
      " 15  num-of-cylinders   205 non-null    object \n",
      " 16  engine-size        205 non-null    int64  \n",
      " 17  fuel-system        205 non-null    object \n",
      " 18  bore               201 non-null    float64\n",
      " 19  stroke             201 non-null    float64\n",
      " 20  compression-ratio  205 non-null    float64\n",
      " 21  horsepower         203 non-null    float64\n",
      " 22  peak-rpm           203 non-null    float64\n",
      " 23  city-mpg           205 non-null    int64  \n",
      " 24  highway-mpg        205 non-null    int64  \n",
      " 25  price              201 non-null    float64\n",
      "dtypes: float64(11), int64(5), object(10)\n",
      "memory usage: 41.8+ KB\n"
     ]
    }
   ],
   "source": [
    "df.info()"
   ]
  },
  {
   "cell_type": "code",
   "execution_count": 26,
   "id": "fdbb4b85",
   "metadata": {},
   "outputs": [
    {
     "data": {
      "text/plain": [
       "symboling             0\n",
       "normalized-losses    41\n",
       "make                  0\n",
       "fuel-type             0\n",
       "aspiration            0\n",
       "num-of-doors          2\n",
       "body-style            0\n",
       "drive-wheels          0\n",
       "engine-location       0\n",
       "wheel-base            0\n",
       "length                0\n",
       "width                 0\n",
       "height                0\n",
       "curb-weight           0\n",
       "engine-type           0\n",
       "num-of-cylinders      0\n",
       "engine-size           0\n",
       "fuel-system           0\n",
       "bore                  4\n",
       "stroke                4\n",
       "compression-ratio     0\n",
       "horsepower            2\n",
       "peak-rpm              2\n",
       "city-mpg              0\n",
       "highway-mpg           0\n",
       "price                 4\n",
       "dtype: int64"
      ]
     },
     "execution_count": 26,
     "metadata": {},
     "output_type": "execute_result"
    }
   ],
   "source": [
    "df.isnull().sum()"
   ]
  },
  {
   "cell_type": "code",
   "execution_count": 27,
   "id": "a999e297",
   "metadata": {},
   "outputs": [],
   "source": [
    "from sklearn.impute import SimpleImputer\n",
    "SI = SimpleImputer(strategy='mean', missing_values=np.nan)\n",
    "df['normalized-losses'] = SI.fit_transform(df[['normalized-losses']])\n",
    "df['horsepower'] = SI.fit_transform(df[['horsepower']])\n",
    "df['bore'] = SI.fit_transform(df[['bore']])\n",
    "df['stroke'] = SI.fit_transform(df[['stroke']])\n",
    "df['horsepower'] = SI.fit_transform(df[['horsepower']])\n",
    "df['peak-rpm'] = SI.fit_transform(df[['peak-rpm']])\n",
    "df['price'] = SI.fit_transform(df[['price']])"
   ]
  },
  {
   "cell_type": "code",
   "execution_count": 28,
   "id": "03ecf5e8",
   "metadata": {},
   "outputs": [
    {
     "data": {
      "text/plain": [
       "symboling            0\n",
       "normalized-losses    0\n",
       "make                 0\n",
       "fuel-type            0\n",
       "aspiration           0\n",
       "num-of-doors         2\n",
       "body-style           0\n",
       "drive-wheels         0\n",
       "engine-location      0\n",
       "wheel-base           0\n",
       "length               0\n",
       "width                0\n",
       "height               0\n",
       "curb-weight          0\n",
       "engine-type          0\n",
       "num-of-cylinders     0\n",
       "engine-size          0\n",
       "fuel-system          0\n",
       "bore                 0\n",
       "stroke               0\n",
       "compression-ratio    0\n",
       "horsepower           0\n",
       "peak-rpm             0\n",
       "city-mpg             0\n",
       "highway-mpg          0\n",
       "price                0\n",
       "dtype: int64"
      ]
     },
     "execution_count": 28,
     "metadata": {},
     "output_type": "execute_result"
    }
   ],
   "source": [
    "df.isnull().sum()"
   ]
  },
  {
   "cell_type": "code",
   "execution_count": 29,
   "id": "4bf24275",
   "metadata": {},
   "outputs": [],
   "source": [
    "SI = SimpleImputer(strategy='most_frequent', missing_values=np.nan)\n",
    "df['num-of-doors'] = SI.fit_transform(df[['num-of-doors']])"
   ]
  },
  {
   "cell_type": "code",
   "execution_count": 30,
   "id": "aae496e7",
   "metadata": {},
   "outputs": [
    {
     "name": "stdout",
     "output_type": "stream",
     "text": [
      "<class 'pandas.core.frame.DataFrame'>\n",
      "RangeIndex: 205 entries, 0 to 204\n",
      "Data columns (total 26 columns):\n",
      " #   Column             Non-Null Count  Dtype  \n",
      "---  ------             --------------  -----  \n",
      " 0   symboling          205 non-null    int64  \n",
      " 1   normalized-losses  205 non-null    float64\n",
      " 2   make               205 non-null    object \n",
      " 3   fuel-type          205 non-null    object \n",
      " 4   aspiration         205 non-null    object \n",
      " 5   num-of-doors       205 non-null    object \n",
      " 6   body-style         205 non-null    object \n",
      " 7   drive-wheels       205 non-null    object \n",
      " 8   engine-location    205 non-null    object \n",
      " 9   wheel-base         205 non-null    float64\n",
      " 10  length             205 non-null    float64\n",
      " 11  width              205 non-null    float64\n",
      " 12  height             205 non-null    float64\n",
      " 13  curb-weight        205 non-null    int64  \n",
      " 14  engine-type        205 non-null    object \n",
      " 15  num-of-cylinders   205 non-null    object \n",
      " 16  engine-size        205 non-null    int64  \n",
      " 17  fuel-system        205 non-null    object \n",
      " 18  bore               205 non-null    float64\n",
      " 19  stroke             205 non-null    float64\n",
      " 20  compression-ratio  205 non-null    float64\n",
      " 21  horsepower         205 non-null    float64\n",
      " 22  peak-rpm           205 non-null    float64\n",
      " 23  city-mpg           205 non-null    int64  \n",
      " 24  highway-mpg        205 non-null    int64  \n",
      " 25  price              205 non-null    float64\n",
      "dtypes: float64(11), int64(5), object(10)\n",
      "memory usage: 41.8+ KB\n"
     ]
    }
   ],
   "source": [
    "df.info()"
   ]
  },
  {
   "cell_type": "code",
   "execution_count": 31,
   "id": "1760e319",
   "metadata": {},
   "outputs": [
    {
     "data": {
      "text/plain": [
       "toyota           32\n",
       "nissan           18\n",
       "mazda            17\n",
       "mitsubishi       13\n",
       "honda            13\n",
       "volkswagen       12\n",
       "subaru           12\n",
       "peugot           11\n",
       "volvo            11\n",
       "dodge             9\n",
       "mercedes-benz     8\n",
       "bmw               8\n",
       "audi              7\n",
       "plymouth          7\n",
       "saab              6\n",
       "porsche           5\n",
       "isuzu             4\n",
       "jaguar            3\n",
       "chevrolet         3\n",
       "alfa-romero       3\n",
       "renault           2\n",
       "mercury           1\n",
       "Name: make, dtype: int64"
      ]
     },
     "execution_count": 31,
     "metadata": {},
     "output_type": "execute_result"
    }
   ],
   "source": [
    "df['make'].value_counts()"
   ]
  },
  {
   "cell_type": "code",
   "execution_count": 32,
   "id": "ca2ba274",
   "metadata": {},
   "outputs": [
    {
     "data": {
      "text/plain": [
       "gas       185\n",
       "diesel     20\n",
       "Name: fuel-type, dtype: int64"
      ]
     },
     "execution_count": 32,
     "metadata": {},
     "output_type": "execute_result"
    }
   ],
   "source": [
    "df['fuel-type'].value_counts()\n"
   ]
  },
  {
   "cell_type": "code",
   "execution_count": 33,
   "id": "a3ee8095",
   "metadata": {},
   "outputs": [
    {
     "data": {
      "text/plain": [
       "std      168\n",
       "turbo     37\n",
       "Name: aspiration, dtype: int64"
      ]
     },
     "execution_count": 33,
     "metadata": {},
     "output_type": "execute_result"
    }
   ],
   "source": [
    "df['aspiration'].value_counts()\n"
   ]
  },
  {
   "cell_type": "code",
   "execution_count": 34,
   "id": "48dbcca1",
   "metadata": {},
   "outputs": [
    {
     "data": {
      "text/plain": [
       "sedan          96\n",
       "hatchback      70\n",
       "wagon          25\n",
       "hardtop         8\n",
       "convertible     6\n",
       "Name: body-style, dtype: int64"
      ]
     },
     "execution_count": 34,
     "metadata": {},
     "output_type": "execute_result"
    }
   ],
   "source": [
    "df['body-style'].value_counts()\n"
   ]
  },
  {
   "cell_type": "code",
   "execution_count": 35,
   "id": "8214e997",
   "metadata": {},
   "outputs": [
    {
     "data": {
      "text/plain": [
       "four      159\n",
       "six        24\n",
       "five       11\n",
       "eight       5\n",
       "two         4\n",
       "three       1\n",
       "twelve      1\n",
       "Name: num-of-cylinders, dtype: int64"
      ]
     },
     "execution_count": 35,
     "metadata": {},
     "output_type": "execute_result"
    }
   ],
   "source": [
    "df['num-of-cylinders'].value_counts()\n"
   ]
  },
  {
   "cell_type": "code",
   "execution_count": 36,
   "id": "c70fe30d",
   "metadata": {},
   "outputs": [],
   "source": [
    "from sklearn.preprocessing import OrdinalEncoder\n",
    "OE=OrdinalEncoder()\n",
    "df['make']=OE.fit_transform(df[['make']])\n",
    "df['fuel-type']=OE.fit_transform(df[['fuel-type']])\n",
    "df['aspiration']=OE.fit_transform(df[['aspiration']])\n",
    "df['body-style']=OE.fit_transform(df[['body-style']])\n",
    "df['num-of-cylinders']=OE.fit_transform(df[['num-of-cylinders']])\n",
    "df['num-of-doors']=OE.fit_transform(df[['num-of-doors']])\n",
    "df['drive-wheels']=OE.fit_transform(df[['drive-wheels']])\n",
    "df['engine-type']=OE.fit_transform(df[['engine-type']])\n",
    "df['fuel-system']=OE.fit_transform(df[['fuel-system']])\n",
    "df['engine-location']=OE.fit_transform(df[['engine-location']])"
   ]
  },
  {
   "cell_type": "code",
   "execution_count": 37,
   "id": "931cdff0",
   "metadata": {},
   "outputs": [
    {
     "data": {
      "text/html": [
       "<div>\n",
       "<style scoped>\n",
       "    .dataframe tbody tr th:only-of-type {\n",
       "        vertical-align: middle;\n",
       "    }\n",
       "\n",
       "    .dataframe tbody tr th {\n",
       "        vertical-align: top;\n",
       "    }\n",
       "\n",
       "    .dataframe thead th {\n",
       "        text-align: right;\n",
       "    }\n",
       "</style>\n",
       "<table border=\"1\" class=\"dataframe\">\n",
       "  <thead>\n",
       "    <tr style=\"text-align: right;\">\n",
       "      <th></th>\n",
       "      <th>symboling</th>\n",
       "      <th>normalized-losses</th>\n",
       "      <th>make</th>\n",
       "      <th>fuel-type</th>\n",
       "      <th>aspiration</th>\n",
       "      <th>num-of-doors</th>\n",
       "      <th>body-style</th>\n",
       "      <th>drive-wheels</th>\n",
       "      <th>engine-location</th>\n",
       "      <th>wheel-base</th>\n",
       "      <th>...</th>\n",
       "      <th>engine-size</th>\n",
       "      <th>fuel-system</th>\n",
       "      <th>bore</th>\n",
       "      <th>stroke</th>\n",
       "      <th>compression-ratio</th>\n",
       "      <th>horsepower</th>\n",
       "      <th>peak-rpm</th>\n",
       "      <th>city-mpg</th>\n",
       "      <th>highway-mpg</th>\n",
       "      <th>price</th>\n",
       "    </tr>\n",
       "  </thead>\n",
       "  <tbody>\n",
       "    <tr>\n",
       "      <th>0</th>\n",
       "      <td>3</td>\n",
       "      <td>122.0</td>\n",
       "      <td>0.0</td>\n",
       "      <td>1.0</td>\n",
       "      <td>0.0</td>\n",
       "      <td>1.0</td>\n",
       "      <td>0.0</td>\n",
       "      <td>2.0</td>\n",
       "      <td>0.0</td>\n",
       "      <td>88.6</td>\n",
       "      <td>...</td>\n",
       "      <td>130</td>\n",
       "      <td>5.0</td>\n",
       "      <td>3.47</td>\n",
       "      <td>2.68</td>\n",
       "      <td>9.0</td>\n",
       "      <td>111.0</td>\n",
       "      <td>5000.0</td>\n",
       "      <td>21</td>\n",
       "      <td>27</td>\n",
       "      <td>13495.0</td>\n",
       "    </tr>\n",
       "    <tr>\n",
       "      <th>1</th>\n",
       "      <td>3</td>\n",
       "      <td>122.0</td>\n",
       "      <td>0.0</td>\n",
       "      <td>1.0</td>\n",
       "      <td>0.0</td>\n",
       "      <td>1.0</td>\n",
       "      <td>0.0</td>\n",
       "      <td>2.0</td>\n",
       "      <td>0.0</td>\n",
       "      <td>88.6</td>\n",
       "      <td>...</td>\n",
       "      <td>130</td>\n",
       "      <td>5.0</td>\n",
       "      <td>3.47</td>\n",
       "      <td>2.68</td>\n",
       "      <td>9.0</td>\n",
       "      <td>111.0</td>\n",
       "      <td>5000.0</td>\n",
       "      <td>21</td>\n",
       "      <td>27</td>\n",
       "      <td>16500.0</td>\n",
       "    </tr>\n",
       "    <tr>\n",
       "      <th>2</th>\n",
       "      <td>1</td>\n",
       "      <td>122.0</td>\n",
       "      <td>0.0</td>\n",
       "      <td>1.0</td>\n",
       "      <td>0.0</td>\n",
       "      <td>1.0</td>\n",
       "      <td>2.0</td>\n",
       "      <td>2.0</td>\n",
       "      <td>0.0</td>\n",
       "      <td>94.5</td>\n",
       "      <td>...</td>\n",
       "      <td>152</td>\n",
       "      <td>5.0</td>\n",
       "      <td>2.68</td>\n",
       "      <td>3.47</td>\n",
       "      <td>9.0</td>\n",
       "      <td>154.0</td>\n",
       "      <td>5000.0</td>\n",
       "      <td>19</td>\n",
       "      <td>26</td>\n",
       "      <td>16500.0</td>\n",
       "    </tr>\n",
       "    <tr>\n",
       "      <th>3</th>\n",
       "      <td>2</td>\n",
       "      <td>164.0</td>\n",
       "      <td>1.0</td>\n",
       "      <td>1.0</td>\n",
       "      <td>0.0</td>\n",
       "      <td>0.0</td>\n",
       "      <td>3.0</td>\n",
       "      <td>1.0</td>\n",
       "      <td>0.0</td>\n",
       "      <td>99.8</td>\n",
       "      <td>...</td>\n",
       "      <td>109</td>\n",
       "      <td>5.0</td>\n",
       "      <td>3.19</td>\n",
       "      <td>3.40</td>\n",
       "      <td>10.0</td>\n",
       "      <td>102.0</td>\n",
       "      <td>5500.0</td>\n",
       "      <td>24</td>\n",
       "      <td>30</td>\n",
       "      <td>13950.0</td>\n",
       "    </tr>\n",
       "    <tr>\n",
       "      <th>4</th>\n",
       "      <td>2</td>\n",
       "      <td>164.0</td>\n",
       "      <td>1.0</td>\n",
       "      <td>1.0</td>\n",
       "      <td>0.0</td>\n",
       "      <td>0.0</td>\n",
       "      <td>3.0</td>\n",
       "      <td>0.0</td>\n",
       "      <td>0.0</td>\n",
       "      <td>99.4</td>\n",
       "      <td>...</td>\n",
       "      <td>136</td>\n",
       "      <td>5.0</td>\n",
       "      <td>3.19</td>\n",
       "      <td>3.40</td>\n",
       "      <td>8.0</td>\n",
       "      <td>115.0</td>\n",
       "      <td>5500.0</td>\n",
       "      <td>18</td>\n",
       "      <td>22</td>\n",
       "      <td>17450.0</td>\n",
       "    </tr>\n",
       "    <tr>\n",
       "      <th>...</th>\n",
       "      <td>...</td>\n",
       "      <td>...</td>\n",
       "      <td>...</td>\n",
       "      <td>...</td>\n",
       "      <td>...</td>\n",
       "      <td>...</td>\n",
       "      <td>...</td>\n",
       "      <td>...</td>\n",
       "      <td>...</td>\n",
       "      <td>...</td>\n",
       "      <td>...</td>\n",
       "      <td>...</td>\n",
       "      <td>...</td>\n",
       "      <td>...</td>\n",
       "      <td>...</td>\n",
       "      <td>...</td>\n",
       "      <td>...</td>\n",
       "      <td>...</td>\n",
       "      <td>...</td>\n",
       "      <td>...</td>\n",
       "      <td>...</td>\n",
       "    </tr>\n",
       "    <tr>\n",
       "      <th>200</th>\n",
       "      <td>-1</td>\n",
       "      <td>95.0</td>\n",
       "      <td>21.0</td>\n",
       "      <td>1.0</td>\n",
       "      <td>0.0</td>\n",
       "      <td>0.0</td>\n",
       "      <td>3.0</td>\n",
       "      <td>2.0</td>\n",
       "      <td>0.0</td>\n",
       "      <td>109.1</td>\n",
       "      <td>...</td>\n",
       "      <td>141</td>\n",
       "      <td>5.0</td>\n",
       "      <td>3.78</td>\n",
       "      <td>3.15</td>\n",
       "      <td>9.5</td>\n",
       "      <td>114.0</td>\n",
       "      <td>5400.0</td>\n",
       "      <td>23</td>\n",
       "      <td>28</td>\n",
       "      <td>16845.0</td>\n",
       "    </tr>\n",
       "    <tr>\n",
       "      <th>201</th>\n",
       "      <td>-1</td>\n",
       "      <td>95.0</td>\n",
       "      <td>21.0</td>\n",
       "      <td>1.0</td>\n",
       "      <td>1.0</td>\n",
       "      <td>0.0</td>\n",
       "      <td>3.0</td>\n",
       "      <td>2.0</td>\n",
       "      <td>0.0</td>\n",
       "      <td>109.1</td>\n",
       "      <td>...</td>\n",
       "      <td>141</td>\n",
       "      <td>5.0</td>\n",
       "      <td>3.78</td>\n",
       "      <td>3.15</td>\n",
       "      <td>8.7</td>\n",
       "      <td>160.0</td>\n",
       "      <td>5300.0</td>\n",
       "      <td>19</td>\n",
       "      <td>25</td>\n",
       "      <td>19045.0</td>\n",
       "    </tr>\n",
       "    <tr>\n",
       "      <th>202</th>\n",
       "      <td>-1</td>\n",
       "      <td>95.0</td>\n",
       "      <td>21.0</td>\n",
       "      <td>1.0</td>\n",
       "      <td>0.0</td>\n",
       "      <td>0.0</td>\n",
       "      <td>3.0</td>\n",
       "      <td>2.0</td>\n",
       "      <td>0.0</td>\n",
       "      <td>109.1</td>\n",
       "      <td>...</td>\n",
       "      <td>173</td>\n",
       "      <td>5.0</td>\n",
       "      <td>3.58</td>\n",
       "      <td>2.87</td>\n",
       "      <td>8.8</td>\n",
       "      <td>134.0</td>\n",
       "      <td>5500.0</td>\n",
       "      <td>18</td>\n",
       "      <td>23</td>\n",
       "      <td>21485.0</td>\n",
       "    </tr>\n",
       "    <tr>\n",
       "      <th>203</th>\n",
       "      <td>-1</td>\n",
       "      <td>95.0</td>\n",
       "      <td>21.0</td>\n",
       "      <td>0.0</td>\n",
       "      <td>1.0</td>\n",
       "      <td>0.0</td>\n",
       "      <td>3.0</td>\n",
       "      <td>2.0</td>\n",
       "      <td>0.0</td>\n",
       "      <td>109.1</td>\n",
       "      <td>...</td>\n",
       "      <td>145</td>\n",
       "      <td>3.0</td>\n",
       "      <td>3.01</td>\n",
       "      <td>3.40</td>\n",
       "      <td>23.0</td>\n",
       "      <td>106.0</td>\n",
       "      <td>4800.0</td>\n",
       "      <td>26</td>\n",
       "      <td>27</td>\n",
       "      <td>22470.0</td>\n",
       "    </tr>\n",
       "    <tr>\n",
       "      <th>204</th>\n",
       "      <td>-1</td>\n",
       "      <td>95.0</td>\n",
       "      <td>21.0</td>\n",
       "      <td>1.0</td>\n",
       "      <td>1.0</td>\n",
       "      <td>0.0</td>\n",
       "      <td>3.0</td>\n",
       "      <td>2.0</td>\n",
       "      <td>0.0</td>\n",
       "      <td>109.1</td>\n",
       "      <td>...</td>\n",
       "      <td>141</td>\n",
       "      <td>5.0</td>\n",
       "      <td>3.78</td>\n",
       "      <td>3.15</td>\n",
       "      <td>9.5</td>\n",
       "      <td>114.0</td>\n",
       "      <td>5400.0</td>\n",
       "      <td>19</td>\n",
       "      <td>25</td>\n",
       "      <td>22625.0</td>\n",
       "    </tr>\n",
       "  </tbody>\n",
       "</table>\n",
       "<p>205 rows × 26 columns</p>\n",
       "</div>"
      ],
      "text/plain": [
       "     symboling  normalized-losses  make  fuel-type  aspiration  num-of-doors  \\\n",
       "0            3              122.0   0.0        1.0         0.0           1.0   \n",
       "1            3              122.0   0.0        1.0         0.0           1.0   \n",
       "2            1              122.0   0.0        1.0         0.0           1.0   \n",
       "3            2              164.0   1.0        1.0         0.0           0.0   \n",
       "4            2              164.0   1.0        1.0         0.0           0.0   \n",
       "..         ...                ...   ...        ...         ...           ...   \n",
       "200         -1               95.0  21.0        1.0         0.0           0.0   \n",
       "201         -1               95.0  21.0        1.0         1.0           0.0   \n",
       "202         -1               95.0  21.0        1.0         0.0           0.0   \n",
       "203         -1               95.0  21.0        0.0         1.0           0.0   \n",
       "204         -1               95.0  21.0        1.0         1.0           0.0   \n",
       "\n",
       "     body-style  drive-wheels  engine-location  wheel-base  ...  engine-size  \\\n",
       "0           0.0           2.0              0.0        88.6  ...          130   \n",
       "1           0.0           2.0              0.0        88.6  ...          130   \n",
       "2           2.0           2.0              0.0        94.5  ...          152   \n",
       "3           3.0           1.0              0.0        99.8  ...          109   \n",
       "4           3.0           0.0              0.0        99.4  ...          136   \n",
       "..          ...           ...              ...         ...  ...          ...   \n",
       "200         3.0           2.0              0.0       109.1  ...          141   \n",
       "201         3.0           2.0              0.0       109.1  ...          141   \n",
       "202         3.0           2.0              0.0       109.1  ...          173   \n",
       "203         3.0           2.0              0.0       109.1  ...          145   \n",
       "204         3.0           2.0              0.0       109.1  ...          141   \n",
       "\n",
       "     fuel-system  bore  stroke  compression-ratio  horsepower  peak-rpm  \\\n",
       "0            5.0  3.47    2.68                9.0       111.0    5000.0   \n",
       "1            5.0  3.47    2.68                9.0       111.0    5000.0   \n",
       "2            5.0  2.68    3.47                9.0       154.0    5000.0   \n",
       "3            5.0  3.19    3.40               10.0       102.0    5500.0   \n",
       "4            5.0  3.19    3.40                8.0       115.0    5500.0   \n",
       "..           ...   ...     ...                ...         ...       ...   \n",
       "200          5.0  3.78    3.15                9.5       114.0    5400.0   \n",
       "201          5.0  3.78    3.15                8.7       160.0    5300.0   \n",
       "202          5.0  3.58    2.87                8.8       134.0    5500.0   \n",
       "203          3.0  3.01    3.40               23.0       106.0    4800.0   \n",
       "204          5.0  3.78    3.15                9.5       114.0    5400.0   \n",
       "\n",
       "     city-mpg  highway-mpg    price  \n",
       "0          21           27  13495.0  \n",
       "1          21           27  16500.0  \n",
       "2          19           26  16500.0  \n",
       "3          24           30  13950.0  \n",
       "4          18           22  17450.0  \n",
       "..        ...          ...      ...  \n",
       "200        23           28  16845.0  \n",
       "201        19           25  19045.0  \n",
       "202        18           23  21485.0  \n",
       "203        26           27  22470.0  \n",
       "204        19           25  22625.0  \n",
       "\n",
       "[205 rows x 26 columns]"
      ]
     },
     "execution_count": 37,
     "metadata": {},
     "output_type": "execute_result"
    }
   ],
   "source": [
    "df"
   ]
  },
  {
   "cell_type": "code",
   "execution_count": 38,
   "id": "74229b6e",
   "metadata": {},
   "outputs": [],
   "source": [
    "X = df.iloc[:, :-1]\n",
    "Y = df.iloc[:, -1]"
   ]
  },
  {
   "cell_type": "code",
   "execution_count": 39,
   "id": "1f8d95c5",
   "metadata": {},
   "outputs": [],
   "source": [
    "from sklearn.model_selection import train_test_split\n",
    "x_train, x_test, y_train, y_test = train_test_split(X, Y, test_size = 0.3, random_state=2)"
   ]
  },
  {
   "cell_type": "code",
   "execution_count": 40,
   "id": "09e13a6e",
   "metadata": {},
   "outputs": [
    {
     "data": {
      "text/plain": [
       "(143, 25)"
      ]
     },
     "execution_count": 40,
     "metadata": {},
     "output_type": "execute_result"
    }
   ],
   "source": [
    "x_train.shape"
   ]
  },
  {
   "cell_type": "code",
   "execution_count": 41,
   "id": "feff9d6e",
   "metadata": {},
   "outputs": [],
   "source": [
    "from sklearn.preprocessing import StandardScaler\n",
    "ss = StandardScaler()\n",
    "ss.fit(x_train)\n",
    "std_xtrain = ss.transform(x_train)\n",
    "std_xtest = ss.transform(x_test)"
   ]
  },
  {
   "cell_type": "code",
   "execution_count": 42,
   "id": "c2f3ea91",
   "metadata": {},
   "outputs": [
    {
     "name": "stdout",
     "output_type": "stream",
     "text": [
      "2279.777309419742\n"
     ]
    }
   ],
   "source": [
    "#Lasso\n",
    "results = []\n",
    "from sklearn.linear_model import Lasso\n",
    "model = Lasso(alpha = 0.05, positive = True, max_iter = 100000)\n",
    "model.fit(std_xtrain, y_train)\n",
    "\n",
    "from sklearn.metrics import mean_absolute_error\n",
    "print(mean_absolute_error(y_test, model.predict(std_xtest)))\n",
    "results.append(mean_absolute_error(y_test, model.predict(std_xtest)))"
   ]
  },
  {
   "cell_type": "code",
   "execution_count": 43,
   "id": "777af891",
   "metadata": {},
   "outputs": [
    {
     "data": {
      "text/html": [
       "<style>#sk-container-id-1 {color: black;background-color: white;}#sk-container-id-1 pre{padding: 0;}#sk-container-id-1 div.sk-toggleable {background-color: white;}#sk-container-id-1 label.sk-toggleable__label {cursor: pointer;display: block;width: 100%;margin-bottom: 0;padding: 0.3em;box-sizing: border-box;text-align: center;}#sk-container-id-1 label.sk-toggleable__label-arrow:before {content: \"▸\";float: left;margin-right: 0.25em;color: #696969;}#sk-container-id-1 label.sk-toggleable__label-arrow:hover:before {color: black;}#sk-container-id-1 div.sk-estimator:hover label.sk-toggleable__label-arrow:before {color: black;}#sk-container-id-1 div.sk-toggleable__content {max-height: 0;max-width: 0;overflow: hidden;text-align: left;background-color: #f0f8ff;}#sk-container-id-1 div.sk-toggleable__content pre {margin: 0.2em;color: black;border-radius: 0.25em;background-color: #f0f8ff;}#sk-container-id-1 input.sk-toggleable__control:checked~div.sk-toggleable__content {max-height: 200px;max-width: 100%;overflow: auto;}#sk-container-id-1 input.sk-toggleable__control:checked~label.sk-toggleable__label-arrow:before {content: \"▾\";}#sk-container-id-1 div.sk-estimator input.sk-toggleable__control:checked~label.sk-toggleable__label {background-color: #d4ebff;}#sk-container-id-1 div.sk-label input.sk-toggleable__control:checked~label.sk-toggleable__label {background-color: #d4ebff;}#sk-container-id-1 input.sk-hidden--visually {border: 0;clip: rect(1px 1px 1px 1px);clip: rect(1px, 1px, 1px, 1px);height: 1px;margin: -1px;overflow: hidden;padding: 0;position: absolute;width: 1px;}#sk-container-id-1 div.sk-estimator {font-family: monospace;background-color: #f0f8ff;border: 1px dotted black;border-radius: 0.25em;box-sizing: border-box;margin-bottom: 0.5em;}#sk-container-id-1 div.sk-estimator:hover {background-color: #d4ebff;}#sk-container-id-1 div.sk-parallel-item::after {content: \"\";width: 100%;border-bottom: 1px solid gray;flex-grow: 1;}#sk-container-id-1 div.sk-label:hover label.sk-toggleable__label {background-color: #d4ebff;}#sk-container-id-1 div.sk-serial::before {content: \"\";position: absolute;border-left: 1px solid gray;box-sizing: border-box;top: 0;bottom: 0;left: 50%;z-index: 0;}#sk-container-id-1 div.sk-serial {display: flex;flex-direction: column;align-items: center;background-color: white;padding-right: 0.2em;padding-left: 0.2em;position: relative;}#sk-container-id-1 div.sk-item {position: relative;z-index: 1;}#sk-container-id-1 div.sk-parallel {display: flex;align-items: stretch;justify-content: center;background-color: white;position: relative;}#sk-container-id-1 div.sk-item::before, #sk-container-id-1 div.sk-parallel-item::before {content: \"\";position: absolute;border-left: 1px solid gray;box-sizing: border-box;top: 0;bottom: 0;left: 50%;z-index: -1;}#sk-container-id-1 div.sk-parallel-item {display: flex;flex-direction: column;z-index: 1;position: relative;background-color: white;}#sk-container-id-1 div.sk-parallel-item:first-child::after {align-self: flex-end;width: 50%;}#sk-container-id-1 div.sk-parallel-item:last-child::after {align-self: flex-start;width: 50%;}#sk-container-id-1 div.sk-parallel-item:only-child::after {width: 0;}#sk-container-id-1 div.sk-dashed-wrapped {border: 1px dashed gray;margin: 0 0.4em 0.5em 0.4em;box-sizing: border-box;padding-bottom: 0.4em;background-color: white;}#sk-container-id-1 div.sk-label label {font-family: monospace;font-weight: bold;display: inline-block;line-height: 1.2em;}#sk-container-id-1 div.sk-label-container {text-align: center;}#sk-container-id-1 div.sk-container {/* jupyter's `normalize.less` sets `[hidden] { display: none; }` but bootstrap.min.css set `[hidden] { display: none !important; }` so we also need the `!important` here to be able to override the default hidden behavior on the sphinx rendered scikit-learn.org. See: https://github.com/scikit-learn/scikit-learn/issues/21755 */display: inline-block !important;position: relative;}#sk-container-id-1 div.sk-text-repr-fallback {display: none;}</style><div id=\"sk-container-id-1\" class=\"sk-top-container\"><div class=\"sk-text-repr-fallback\"><pre>RFE(estimator=Lasso(alpha=0.05, max_iter=100000, positive=True),\n",
       "    n_features_to_select=15)</pre><b>In a Jupyter environment, please rerun this cell to show the HTML representation or trust the notebook. <br />On GitHub, the HTML representation is unable to render, please try loading this page with nbviewer.org.</b></div><div class=\"sk-container\" hidden><div class=\"sk-item sk-dashed-wrapped\"><div class=\"sk-label-container\"><div class=\"sk-label sk-toggleable\"><input class=\"sk-toggleable__control sk-hidden--visually\" id=\"sk-estimator-id-1\" type=\"checkbox\" ><label for=\"sk-estimator-id-1\" class=\"sk-toggleable__label sk-toggleable__label-arrow\">RFE</label><div class=\"sk-toggleable__content\"><pre>RFE(estimator=Lasso(alpha=0.05, max_iter=100000, positive=True),\n",
       "    n_features_to_select=15)</pre></div></div></div><div class=\"sk-parallel\"><div class=\"sk-parallel-item\"><div class=\"sk-item\"><div class=\"sk-label-container\"><div class=\"sk-label sk-toggleable\"><input class=\"sk-toggleable__control sk-hidden--visually\" id=\"sk-estimator-id-2\" type=\"checkbox\" ><label for=\"sk-estimator-id-2\" class=\"sk-toggleable__label sk-toggleable__label-arrow\">estimator: Lasso</label><div class=\"sk-toggleable__content\"><pre>Lasso(alpha=0.05, max_iter=100000, positive=True)</pre></div></div></div><div class=\"sk-serial\"><div class=\"sk-item\"><div class=\"sk-estimator sk-toggleable\"><input class=\"sk-toggleable__control sk-hidden--visually\" id=\"sk-estimator-id-3\" type=\"checkbox\" ><label for=\"sk-estimator-id-3\" class=\"sk-toggleable__label sk-toggleable__label-arrow\">Lasso</label><div class=\"sk-toggleable__content\"><pre>Lasso(alpha=0.05, max_iter=100000, positive=True)</pre></div></div></div></div></div></div></div></div></div></div>"
      ],
      "text/plain": [
       "RFE(estimator=Lasso(alpha=0.05, max_iter=100000, positive=True),\n",
       "    n_features_to_select=15)"
      ]
     },
     "execution_count": 43,
     "metadata": {},
     "output_type": "execute_result"
    }
   ],
   "source": [
    "from sklearn.feature_selection import RFE\n",
    "model = Lasso(alpha = 0.05, positive = True, max_iter = 100000)\n",
    "rfe = RFE(model, n_features_to_select = 15)\n",
    "rfe.fit(std_xtrain, y_train)"
   ]
  },
  {
   "cell_type": "code",
   "execution_count": 44,
   "id": "26c717bc",
   "metadata": {},
   "outputs": [
    {
     "data": {
      "text/plain": [
       "array([ 1,  9,  8,  7,  1,  1,  6,  1,  1,  1,  1,  1,  1,  1,  1,  1,  1,\n",
       "        3,  4,  5,  1, 10,  1,  2, 11])"
      ]
     },
     "execution_count": 44,
     "metadata": {},
     "output_type": "execute_result"
    }
   ],
   "source": [
    "rfe.ranking_"
   ]
  },
  {
   "cell_type": "code",
   "execution_count": 45,
   "id": "a7bd4aeb",
   "metadata": {},
   "outputs": [
    {
     "data": {
      "text/plain": [
       "array([ True, False, False, False,  True,  True, False,  True,  True,\n",
       "        True,  True,  True,  True,  True,  True,  True,  True, False,\n",
       "       False, False,  True, False,  True, False, False])"
      ]
     },
     "execution_count": 45,
     "metadata": {},
     "output_type": "execute_result"
    }
   ],
   "source": [
    "rfe.support_"
   ]
  },
  {
   "cell_type": "code",
   "execution_count": 46,
   "id": "9a49c581",
   "metadata": {},
   "outputs": [
    {
     "data": {
      "text/plain": [
       "array([[ 0.90034639, -0.51525404,  1.1110243 , ..., -0.8372724 ,\n",
       "        -0.19600834,  0.7165901 ],\n",
       "       [ 0.90034639, -0.51525404,  1.1110243 , ...,  0.1719456 ,\n",
       "        -0.41940786,  0.7165901 ],\n",
       "       [-2.25915138,  1.94079022, -0.90007032, ...,  0.03432496,\n",
       "        -0.66762955, -0.11399891],\n",
       "       ...,\n",
       "       [ 1.69022084, -0.51525404,  1.1110243 , ...,  2.41974931,\n",
       "        -0.4690522 , -0.84076429],\n",
       "       [-0.67940249, -0.51525404, -0.90007032, ...,  1.84633   ,\n",
       "        -0.5435187 ,  0.50894285],\n",
       "       [ 0.90034639, -0.51525404,  1.1110243 , ...,  0.40131332,\n",
       "        -0.22083051, -0.73694066]])"
      ]
     },
     "execution_count": 46,
     "metadata": {},
     "output_type": "execute_result"
    }
   ],
   "source": [
    "std_xtrain[:,rfe.support_]"
   ]
  },
  {
   "cell_type": "code",
   "execution_count": 47,
   "id": "20443c19",
   "metadata": {},
   "outputs": [
    {
     "data": {
      "text/plain": [
       "array([[ 0.11047195, -0.51525404, -0.90007032, -0.5955573 , -0.11909827,\n",
       "        -0.80392231, -1.33895882, -0.98477371, -1.24596637, -1.1004125 ,\n",
       "        -0.02645355, -0.10295973, -0.88314594, -0.19600834,  0.7165901 ],\n",
       "       [ 1.69022084,  1.94079022,  1.1110243 , -0.5955573 , -0.11909827,\n",
       "        -0.44184077, -0.06993395,  0.14469886, -1.4063022 ,  0.66212855,\n",
       "        -0.02645355, -0.10295973,  0.63068105, -0.79174039, -0.32164616],\n",
       "       [-0.67940249, -0.51525404, -0.90007032, -0.5955573 , -0.11909827,\n",
       "        -0.22788349, -0.05397137, -0.35226907,  0.39747589, -0.51164479,\n",
       "        -0.02645355, -0.10295973, -0.19504277, -0.41940786,  0.09364835],\n",
       "       [ 0.90034639, -0.51525404,  1.1110243 ,  1.21645747, -0.11909827,\n",
       "         0.43044659,  0.21739244, -0.53298468,  0.23714006, -0.33670742,\n",
       "        -0.02645355, -0.10295973, -0.47028404, -0.34494135,  1.33953186],\n",
       "       [-1.46927694, -0.51525404, -0.90007032,  1.21645747, -0.11909827,\n",
       "         0.9406524 ,  1.17514706,  0.55130899,  1.5198267 ,  0.86528163,\n",
       "        -0.02645355, -0.10295973,  0.28662946, -0.17118617,  0.50894285],\n",
       "       [ 0.11047195, -0.51525404, -0.90007032, -0.5955573 , -0.11909827,\n",
       "        -0.90267182, -0.58073641, -0.8040581 ,  0.15697214, -1.18317857,\n",
       "        -0.02645355, -0.10295973, -0.86020917, -0.29529702, -0.32164616],\n",
       "       [-0.67940249, -0.51525404, -0.90007032,  1.21645747, -0.11909827,\n",
       "         1.03940192,  0.07372925,  0.05434106,  0.27722401,  0.18058051,\n",
       "        -0.02645355, -0.10295973,  0.26369269, -0.5435187 , -0.32164616],\n",
       "       [-0.67940249, -0.51525404, -0.90007032,  1.21645747, -0.11909827,\n",
       "         1.03940192,  0.07372925,  0.05434106,  0.27722401,  0.23701192,\n",
       "        -0.02645355, -0.10295973,  0.12607205,  2.93158491, -1.98282417],\n",
       "       [ 0.90034639, -0.51525404,  1.1110243 , -0.5955573 , -0.11909827,\n",
       "        -0.21142524, -0.18965327, -0.21673236,  0.79831546, -0.58876772,\n",
       "        -0.02645355, -0.10295973, -0.72258854,  3.17980659, -0.73694066],\n",
       "       [-1.46927694, -0.51525404, -0.90007032, -0.5955573 , -0.11909827,\n",
       "         0.62794562,  0.12161698,  0.23505667,  0.07680423, -0.30096752,\n",
       "        -0.02645355, -0.10295973, -0.14916922, -0.36976352, -1.98282417],\n",
       "       [ 1.69022084,  1.94079022,  1.1110243 , -0.5955573 , -0.11909827,\n",
       "        -0.44184077, -0.06993395,  0.14469886, -1.4063022 ,  0.44580814,\n",
       "        -0.02645355, -0.10295973,  0.63068105, -0.79174039, -0.32164616],\n",
       "       [-0.67940249, -0.51525404, -0.90007032, -0.5955573 , -0.11909827,\n",
       "        -0.47475727, -0.34927904, -1.07513152,  2.16117001, -0.55302782,\n",
       "        -0.02645355, -0.10295973, -0.8372724 , -0.29529702, -0.73694066],\n",
       "       [ 0.90034639, -0.51525404,  1.1110243 , -0.5955573 , -0.11909827,\n",
       "        -0.21142524, -0.18965327, -0.21673236,  0.79831546, -0.68658216,\n",
       "        -0.02645355, -0.10295973, -0.44734726, -0.29529702,  0.19747197],\n",
       "       [-0.67940249, -0.51525404, -0.90007032,  1.21645747, -0.11909827,\n",
       "         0.43044659,  0.21739244, -0.53298468,  0.23714006,  0.35927998,\n",
       "        -0.02645355,  1.12397709,  0.81417523, -0.29529702, -1.87900055],\n",
       "       [ 1.69022084, -0.51525404,  1.1110243 , -0.5955573 , -0.11909827,\n",
       "         0.0848233 ,  0.99955871,  0.23505667,  0.95865129,  0.25017925,\n",
       "        -0.02645355, -0.10295973, -0.17210599, -0.22083051,  0.19747197],\n",
       "       [ 0.11047195, -0.51525404,  1.1110243 , -0.5955573 , -0.11909827,\n",
       "        -0.67225629, -0.70045574, -0.98477371,  0.31730797, -1.17189229,\n",
       "        -0.02645355, -0.10295973, -0.72258854, -0.19600834,  0.09364835],\n",
       "       [ 0.11047195, -0.51525404,  1.1110243 ,  1.21645747, -0.11909827,\n",
       "        -0.67225629, -0.42909193, -0.89441591, -0.44428722, -0.69598739,\n",
       "        -0.02645355, -0.10295973, -0.69965176, -0.29529702, -0.73694066],\n",
       "       [-0.67940249, -0.51525404, -0.90007032, -0.5955573 , -0.11909827,\n",
       "        -0.34309125, -0.85210022, -0.89441591,  0.31730797, -1.06091052,\n",
       "        -0.02645355, -0.10295973, -0.8372724 , -0.24565268,  1.75482636],\n",
       "       [ 1.69022084, -0.51525404,  1.1110243 ,  1.21645747,  8.39642781,\n",
       "        -1.49516889, -0.41312935, -0.44262688, -0.8451268 ,  0.34235056,\n",
       "         0.9192607 ,  1.12397709,  1.50227841, -0.17118617,  1.54717911],\n",
       "       [ 0.11047195, -0.51525404, -0.90007032, -0.5955573 , -0.11909827,\n",
       "        -0.80392231, -1.33895882, -0.98477371, -1.24596637, -1.14179554,\n",
       "        -0.02645355, -0.10295973, -0.88314594, -0.19600834,  0.7165901 ],\n",
       "       [ 0.11047195,  1.94079022,  1.1110243 , -0.5955573 , -0.11909827,\n",
       "        -0.80392231, -1.33895882, -0.98477371, -1.16579846, -0.83894697,\n",
       "        -0.02645355, -0.10295973, -0.69965176, -0.64280738,  0.7165901 ],\n",
       "       [-0.67940249, -0.51525404, -0.90007032, -0.5955573 , -0.11909827,\n",
       "        -0.67225629, -1.45069686, -1.07513152, -0.68479097, -1.25089626,\n",
       "        -0.02645355, -0.10295973, -0.88314594, -0.146364  ,  0.50894285],\n",
       "       [ 0.11047195, -0.51525404, -0.90007032, -0.5955573 , -0.11909827,\n",
       "         1.18752618,  1.48641731,  2.44882293,  0.79831546,  0.50788269,\n",
       "        -0.02645355, -1.32989656,  0.1719456 , -0.41940786,  0.7165901 ],\n",
       "       [-0.67940249, -0.51525404,  1.1110243 ,  1.21645747, -0.11909827,\n",
       "         0.43044659,  0.21739244, -0.53298468,  0.23714006,  0.25582239,\n",
       "        -0.02645355,  1.12397709,  0.81417523, -0.29529702, -1.87900055],\n",
       "       [-0.67940249, -0.51525404, -0.90007032, -0.5955573 , -0.11909827,\n",
       "         0.03544854,  0.29720532,  0.23505667,  0.71814755, -0.280276  ,\n",
       "        -0.02645355, -0.10295973, -0.14916922, -0.39458569, -0.73694066],\n",
       "       [ 0.90034639, -0.51525404,  1.1110243 , -0.5955573 , -0.11909827,\n",
       "        -1.67620967, -2.63192755, -2.56603533, -0.20378348, -2.04281706,\n",
       "        -0.97216779,  2.35091391, -1.54831235, -0.17118617, -0.11399891],\n",
       "       [-0.67940249, -0.51525404, -0.90007032, -0.5955573 , -0.11909827,\n",
       "        -0.47475727, -0.62064285, -0.7137003 , -0.36411931, -0.87468686,\n",
       "        -0.02645355, -0.10295973, -0.69965176, -0.29529702, -0.73694066],\n",
       "       [-1.46927694, -0.51525404, -0.90007032, -0.5955573 , -0.11909827,\n",
       "         0.62794562,  0.12161698,  0.23505667,  0.4776438 , -0.46649966,\n",
       "        -0.02645355, -0.10295973, -0.14916922, -0.36976352, -1.98282417],\n",
       "       [ 0.90034639, -0.51525404,  1.1110243 ,  1.21645747, -0.11909827,\n",
       "        -0.03038447,  0.16950471, -0.17155346, -0.28395139,  0.75429985,\n",
       "        -0.02645355, -0.10295973,  0.40131332, -0.22083051, -0.73694066],\n",
       "       [ 0.11047195, -0.51525404,  1.1110243 ,  1.21645747, -0.11909827,\n",
       "        -0.67225629, -0.22955972, -0.21673236, -0.52445514,  0.46838071,\n",
       "         1.86497495,  1.12397709,  0.53893396, -0.29529702, -0.32164616],\n",
       "       [ 1.69022084, -0.51525404,  1.1110243 ,  1.21645747, -0.11909827,\n",
       "        -0.54059028, -0.40514806, -0.12637455, -1.64680594, -0.35551789,\n",
       "         2.8106892 ,  4.80478756, -1.3418814 , -0.19600834,  1.75482636],\n",
       "       [ 0.90034639, -0.51525404, -0.90007032, -0.5955573 , -0.11909827,\n",
       "         0.20003106,  0.20142986,  0.09951996,  0.23714006, -0.44580814,\n",
       "        -0.02645355, -0.10295973, -0.44734726, -0.04707533,  0.7165901 ],\n",
       "       [ 0.11047195, -0.51525404, -0.90007032, -0.5955573 , -0.11909827,\n",
       "        -0.80392231, -1.33895882, -0.98477371, -1.24596637, -1.14179554,\n",
       "        -0.02645355, -0.10295973, -0.88314594, -0.19600834,  0.7165901 ],\n",
       "       [ 0.11047195, -0.51525404, -0.90007032,  1.21645747, -0.11909827,\n",
       "         0.80898639,  1.19110963,  0.41577228,  0.79831546,  0.90478361,\n",
       "        -0.02645355,  1.12397709,  0.81417523, -0.29529702, -1.87900055],\n",
       "       [ 0.11047195, -0.51525404,  1.1110243 , -0.5955573 , -0.11909827,\n",
       "        -0.67225629, -1.45069686, -1.07513152, -0.68479097, -1.31673291,\n",
       "        -0.02645355, -0.10295973, -0.88314594, -0.146364  ,  0.50894285],\n",
       "       [ 1.69022084, -0.51525404,  1.1110243 ,  1.21645747, -0.11909827,\n",
       "         0.71023688,  0.75213877,  0.77720351, -0.68479097,  0.7561809 ,\n",
       "        -2.86359629,  1.12397709,  0.97473264, -0.22083051,  0.09364835],\n",
       "       [-0.67940249, -0.51525404, -0.90007032,  1.21645747, -0.11909827,\n",
       "         2.57001935,  1.9812572 ,  1.09345583,  1.19915504,  1.33742443,\n",
       "        -0.97216779, -0.10295973, -0.19504277, -0.44423003, -0.32164616],\n",
       "       [ 1.69022084, -0.51525404,  1.1110243 ,  1.21645747, -0.11909827,\n",
       "         0.71023688,  0.75213877,  0.77720351, -0.68479097,  0.83142278,\n",
       "        -2.86359629,  1.12397709,  0.97473264, -0.22083051,  0.09364835],\n",
       "       [-0.67940249,  1.94079022, -0.90007032, -0.5955573 , -0.11909827,\n",
       "         0.29878057,  0.48875625,  0.41577228,  0.55781172,  0.00940524,\n",
       "        -0.02645355, -0.10295973, -0.72258854,  3.17980659, -1.35988242],\n",
       "       [ 0.90034639, -0.51525404, -0.90007032, -0.5955573 , -0.11909827,\n",
       "        -0.21142524, -0.18965327, -0.21673236,  0.79831546, -0.58312457,\n",
       "        -0.02645355, -0.10295973, -0.72258854,  3.17980659, -0.73694066],\n",
       "       [-0.67940249, -0.51525404, -0.90007032,  1.21645747, -0.11909827,\n",
       "         1.53314948,  1.00754   ,  1.09345583,  1.19915504,  0.94240455,\n",
       "        -0.97216779, -0.10295973, -0.19504277, -0.44423003, -0.32164616],\n",
       "       [-1.46927694, -0.51525404, -0.90007032,  1.21645747, -0.11909827,\n",
       "         2.80043488,  2.27656487,  2.58435964,  1.11898712,  2.19330082,\n",
       "         1.86497495, -2.55683338,  2.41974931, -0.4690522 , -0.84076429],\n",
       "       [-0.67940249,  1.94079022,  1.1110243 , -2.40757208, -0.11909827,\n",
       "         0.15065631,  0.32913048,  0.86756132, -0.68479097,  0.90102152,\n",
       "        -0.02645355, -1.32989656,  0.05726173, -0.79174039,  0.7165901 ],\n",
       "       [ 0.11047195, -0.51525404,  1.1110243 , -0.5955573 , -0.11909827,\n",
       "        -0.80392231, -1.33895882, -0.98477371, -1.16579846, -1.23396684,\n",
       "        -0.02645355, -0.10295973, -0.88314594, -0.19600834,  0.7165901 ],\n",
       "       [-1.46927694,  1.94079022, -0.90007032, -0.5955573 , -0.11909827,\n",
       "         0.62794562,  0.12161698,  0.23505667,  0.4776438 , -0.17681842,\n",
       "        -0.02645355, -0.10295973, -0.42441049,  3.05569575, -1.35988242],\n",
       "       [-0.67940249, -0.51525404, -0.90007032, -0.5955573 , -0.11909827,\n",
       "        -0.26079999, -0.04599008, -0.26191126, -0.28395139, -0.53421735,\n",
       "         0.9192607 , -0.10295973, -0.47028404, -0.29529702, -0.73694066],\n",
       "       [ 0.11047195, -0.51525404, -0.90007032, -0.5955573 , -0.11909827,\n",
       "        -0.90267182, -0.58073641, -0.8040581 ,  0.15697214, -1.17377334,\n",
       "        -0.02645355, -0.10295973, -0.86020917, -0.29529702, -0.32164616],\n",
       "       [ 0.90034639, -0.51525404,  1.1110243 , -2.40757208, -0.11909827,\n",
       "        -0.86975532, -1.33895882, -0.98477371,  0.79831546, -0.6282697 ,\n",
       "         0.9192607 , -0.10295973, -0.47028404, -0.36976352, -1.56752967],\n",
       "       [ 0.11047195, -0.51525404, -0.90007032, -0.5955573 , -0.11909827,\n",
       "        -0.80392231, -0.54082997, -0.98477371, -1.16579846, -0.72044101,\n",
       "        -0.02645355, -0.10295973, -0.69965176, -0.19600834,  0.7165901 ],\n",
       "       [ 0.90034639, -0.51525404,  1.1110243 ,  1.21645747, -0.11909827,\n",
       "        -0.03038447,  0.16950471, -0.17155346, -0.68479097, -0.04326408,\n",
       "        -0.02645355, -0.10295973,  0.40131332, -0.22083051, -0.73694066],\n",
       "       [-0.67940249, -0.51525404, -0.90007032,  1.21645747, -0.11909827,\n",
       "         2.37252033,  2.03712621,  1.63560267, -0.36411931,  2.80652214,\n",
       "        -2.86359629,  1.12397709,  2.97023185, -0.51869653, -0.84076429],\n",
       "       [ 0.11047195, -0.51525404,  1.1110243 , -0.5955573 , -0.11909827,\n",
       "        -0.34309125, -0.39716678,  0.00916216, -1.08563054, -0.52857421,\n",
       "        -0.02645355, -0.10295973, -0.42441049, -0.27047485,  0.7165901 ],\n",
       "       [-0.67940249, -0.51525404, -0.90007032, -0.5955573 , -0.11909827,\n",
       "        -0.22788349, -0.16570941, -0.26191126, -0.48437118, -0.80696917,\n",
       "         0.9192607 , -0.10295973, -0.47028404, -0.17118617, -0.73694066],\n",
       "       [-0.67940249, -0.51525404, -0.90007032, -0.5955573 , -0.11909827,\n",
       "        -0.22788349, -0.16570941, -0.26191126, -0.48437118, -0.72232205,\n",
       "         0.9192607 , -0.10295973, -0.47028404, -0.17118617, -1.56752967],\n",
       "       [-1.46927694,  1.94079022, -0.90007032,  1.21645747, -0.11909827,\n",
       "         1.7306485 ,  1.17514706,  1.31935035,  0.71814755,  0.91795094,\n",
       "        -0.02645355, -0.10295973,  0.28662946, -0.17118617,  0.50894285],\n",
       "       [-0.67940249, -0.51525404, -0.90007032,  1.21645747, -0.11909827,\n",
       "         2.57001935,  1.9812572 ,  1.09345583,  2.00083418,  1.23396684,\n",
       "        -0.97216779, -0.10295973, -0.19504277, -0.44423003, -0.32164616],\n",
       "       [-1.46927694, -0.51525404, -0.90007032,  1.21645747, -0.11909827,\n",
       "         0.97356891,  1.09533417,  0.23505667,  0.15697214,  1.08536413,\n",
       "        -2.86359629,  1.12397709,  0.74536491, -0.24565268,  0.09364835],\n",
       "       [ 0.11047195, -0.51525404,  1.1110243 ,  1.21645747, -0.11909827,\n",
       "         0.10128155,  0.35307434,  0.86756132, -1.60672199,  1.06279156,\n",
       "         1.86497495,  1.12397709,  1.20410036, -0.29529702,  0.09364835],\n",
       "       [-1.46927694, -0.51525404, -0.90007032, -0.5955573 , -0.11909827,\n",
       "         0.77606988,  0.04180409, -0.62334249,  2.44175772, -0.07336083,\n",
       "        -0.02645355, -0.10295973, -0.14916922, -0.41940786, -0.32164616],\n",
       "       [-0.67940249, -0.51525404, -0.90007032, -0.5955573 , -0.11909827,\n",
       "        -0.34309125,  0.1056544 , -0.35226907,  0.15697214, -0.20503412,\n",
       "        -0.02645355, -0.10295973, -0.42441049, -0.29529702,  1.33953186],\n",
       "       [ 0.11047195, -0.51525404,  1.1110243 , -0.5955573 , -0.11909827,\n",
       "        -0.67225629, -0.70045574, -0.98477371,  0.31730797, -1.2885172 ,\n",
       "        -0.02645355, -0.10295973, -0.72258854, -0.19600834,  0.09364835],\n",
       "       [-0.67940249, -0.51525404, -0.90007032, -2.40757208, -0.11909827,\n",
       "        -0.26079999, -0.16570941, -0.26191126,  0.23714006, -0.35551789,\n",
       "         0.9192607 , -0.10295973, -0.47028404, -0.29529702, -0.73694066]])"
      ]
     },
     "execution_count": 47,
     "metadata": {},
     "output_type": "execute_result"
    }
   ],
   "source": [
    "std_xtest[:,rfe.support_]"
   ]
  },
  {
   "cell_type": "code",
   "execution_count": 48,
   "id": "dc129d91",
   "metadata": {},
   "outputs": [
    {
     "data": {
      "text/plain": [
       "2278.5602174488945"
      ]
     },
     "execution_count": 48,
     "metadata": {},
     "output_type": "execute_result"
    }
   ],
   "source": [
    "#With top 15 features\n",
    "model.fit(std_xtrain[:,rfe.support_], y_train)\n",
    "mean_absolute_error(y_test, model.predict(std_xtest[:,rfe.support_]))"
   ]
  },
  {
   "cell_type": "code",
   "execution_count": 49,
   "id": "a47f740f",
   "metadata": {},
   "outputs": [],
   "source": [
    "model = Lasso(alpha = 0.05, positive = True, max_iter = 100000)\n",
    "\n",
    "for num_selected_features in list(range(15,0,-1)):\n",
    "    rfe = RFE(model, n_features_to_select = num_selected_features)\n",
    "    rfe.fit(std_xtrain, y_train)\n",
    "    model.fit(std_xtrain[:,rfe.support_], y_train)\n",
    "    results.append(mean_absolute_error(y_test, model.predict(std_xtest[:,rfe.support_])))"
   ]
  },
  {
   "cell_type": "code",
   "execution_count": 50,
   "id": "6eec5367",
   "metadata": {},
   "outputs": [
    {
     "data": {
      "text/plain": [
       "11"
      ]
     },
     "execution_count": 50,
     "metadata": {},
     "output_type": "execute_result"
    }
   ],
   "source": [
    "for j in range(len(results)):\n",
    "    if(min(results) == results[j]):\n",
    "        ind = j\n",
    "\n",
    "#Best number of features\n",
    "len(results) - ind"
   ]
  },
  {
   "cell_type": "code",
   "execution_count": 51,
   "id": "144a5abf",
   "metadata": {},
   "outputs": [
    {
     "data": {
      "text/plain": [
       "array([ 1,  9,  8,  7,  1,  1,  6,  1,  1,  1,  1,  1,  1,  1,  1,  1,  1,\n",
       "        3,  4,  5,  1, 10,  1,  2, 11])"
      ]
     },
     "execution_count": 51,
     "metadata": {},
     "output_type": "execute_result"
    }
   ],
   "source": [
    "rfe = RFE(model, n_features_to_select = 15)\n",
    "rfe.fit(std_xtrain, y_train)\n",
    "rfe.ranking_"
   ]
  },
  {
   "cell_type": "code",
   "execution_count": 52,
   "id": "d973cd49",
   "metadata": {},
   "outputs": [],
   "source": [
    "selected_features = rfe.support_"
   ]
  },
  {
   "cell_type": "code",
   "execution_count": 53,
   "id": "4528b910",
   "metadata": {},
   "outputs": [
    {
     "data": {
      "text/plain": [
       "array([ True, False, False, False,  True,  True, False,  True,  True,\n",
       "        True,  True,  True,  True,  True,  True,  True,  True, False,\n",
       "       False, False,  True, False,  True, False, False])"
      ]
     },
     "execution_count": 53,
     "metadata": {},
     "output_type": "execute_result"
    }
   ],
   "source": [
    "selected_features\n"
   ]
  },
  {
   "cell_type": "code",
   "execution_count": 54,
   "id": "152c7dd4",
   "metadata": {},
   "outputs": [
    {
     "name": "stdout",
     "output_type": "stream",
     "text": [
      "symboling\n",
      "aspiration\n",
      "num-of-doors\n",
      "drive-wheels\n",
      "engine-location\n",
      "wheel-base\n",
      "length\n",
      "width\n",
      "height\n",
      "curb-weight\n",
      "engine-type\n",
      "num-of-cylinders\n",
      "engine-size\n",
      "compression-ratio\n",
      "peak-rpm\n"
     ]
    }
   ],
   "source": [
    "# Assuming 'rfe' is the RFE object and 'std_xtrain' is a NumPy array\n",
    "selected_features = rfe.support_\n",
    "\n",
    "# Get the top 15 selected feature indices\n",
    "top_15_indices = np.where(selected_features)[0][:15]\n",
    "\n",
    "# Define a list of feature names\n",
    "feature_names = [\n",
    "    'symboling', 'normalized-losses', 'make', 'fuel-type', 'aspiration',\n",
    "       'num-of-doors', 'body-style', 'drive-wheels', 'engine-location',\n",
    "       'wheel-base', 'length', 'width', 'height', 'curb-weight', 'engine-type',\n",
    "       'num-of-cylinders', 'engine-size', 'fuel-system', 'bore', 'stroke',\n",
    "       'compression-ratio', 'horsepower', 'peak-rpm', 'city-mpg',\n",
    "       'highway-mpg']\n",
    "\n",
    "# Print the top 15 features\n",
    "for index in top_15_indices:\n",
    "    print(feature_names[index])"
   ]
  },
  {
   "cell_type": "code",
   "execution_count": 55,
   "id": "6bede1ec",
   "metadata": {},
   "outputs": [
    {
     "data": {
      "text/plain": [
       "[2279.777309419742,\n",
       " 2278.5602174488945,\n",
       " 2279.019264764603,\n",
       " 2276.4515878766297,\n",
       " 2253.0245359808123,\n",
       " 2249.645525737947,\n",
       " 2267.8331546984487,\n",
       " 2348.2759873849404,\n",
       " 2349.307210625733,\n",
       " 2391.459812029817,\n",
       " 2369.9560747196674,\n",
       " 2377.078804205228,\n",
       " 2437.8043547574084,\n",
       " 2329.9008771551034,\n",
       " 2528.70558246239,\n",
       " 2691.2108643464094]"
      ]
     },
     "execution_count": 55,
     "metadata": {},
     "output_type": "execute_result"
    }
   ],
   "source": [
    "results\n"
   ]
  },
  {
   "cell_type": "code",
   "execution_count": 56,
   "id": "7c8f27bd",
   "metadata": {},
   "outputs": [
    {
     "data": {
      "text/plain": [
       "2249.645525737947"
      ]
     },
     "execution_count": 56,
     "metadata": {},
     "output_type": "execute_result"
    }
   ],
   "source": [
    "min(results)"
   ]
  },
  {
   "cell_type": "code",
   "execution_count": 57,
   "id": "b9665f05",
   "metadata": {},
   "outputs": [
    {
     "name": "stdout",
     "output_type": "stream",
     "text": [
      "symboling\n",
      "peak-rpm\n",
      "compression-ratio\n",
      "engine-size\n",
      "num-of-cylinders\n",
      "engine-type\n",
      "curb-weight\n",
      "width\n",
      "length\n",
      "height\n",
      "engine-location\n",
      "drive-wheels\n",
      "num-of-doors\n"
     ]
    }
   ],
   "source": [
    "# Assuming 'rfe' is the RFE object and 'std_xtrain' is a NumPy array\n",
    "selected_features = rfe.support_\n",
    "\n",
    "# Set the cutoff value for selecting features\n",
    "cutoff_value = 0.9  # Adjust this value as needed\n",
    "\n",
    "# Calculate the number of features to be selected based on the cutoff value\n",
    "num_selected_features = int(np.sum(selected_features) * cutoff_value)\n",
    "\n",
    "# Get the top selected feature indices\n",
    "top_indices = np.argsort(rfe.ranking_)[:num_selected_features]\n",
    "\n",
    "# Define a list of feature names corresponding to your dataset\n",
    "feature_names = [\n",
    "    'symboling', 'normalized-losses', 'make', 'fuel-type', 'aspiration',\n",
    "       'num-of-doors', 'body-style', 'drive-wheels', 'engine-location',\n",
    "       'wheel-base', 'length', 'width', 'height', 'curb-weight', 'engine-type',\n",
    "       'num-of-cylinders', 'engine-size', 'fuel-system', 'bore', 'stroke',\n",
    "       'compression-ratio', 'horsepower', 'peak-rpm', 'city-mpg',\n",
    "       'highway-mpg']\n",
    "\n",
    "\n",
    "# Print the selected features\n",
    "for index in top_indices:\n",
    "    print(feature_names[index])"
   ]
  },
  {
   "cell_type": "code",
   "execution_count": 58,
   "id": "8cab33a4",
   "metadata": {},
   "outputs": [],
   "source": [
    "data=df.drop(['num-of-doors','drive-wheels','engine-location','wheel-base','curb-weight','engine-type','engine-size','bore','stroke','compression-ratio','fuel-system','peak-rpm'],axis=1)"
   ]
  },
  {
   "cell_type": "code",
   "execution_count": 59,
   "id": "258925af",
   "metadata": {},
   "outputs": [
    {
     "name": "stdout",
     "output_type": "stream",
     "text": [
      "<class 'pandas.core.frame.DataFrame'>\n",
      "RangeIndex: 205 entries, 0 to 204\n",
      "Data columns (total 14 columns):\n",
      " #   Column             Non-Null Count  Dtype  \n",
      "---  ------             --------------  -----  \n",
      " 0   symboling          205 non-null    int64  \n",
      " 1   normalized-losses  205 non-null    float64\n",
      " 2   make               205 non-null    float64\n",
      " 3   fuel-type          205 non-null    float64\n",
      " 4   aspiration         205 non-null    float64\n",
      " 5   body-style         205 non-null    float64\n",
      " 6   length             205 non-null    float64\n",
      " 7   width              205 non-null    float64\n",
      " 8   height             205 non-null    float64\n",
      " 9   num-of-cylinders   205 non-null    float64\n",
      " 10  horsepower         205 non-null    float64\n",
      " 11  city-mpg           205 non-null    int64  \n",
      " 12  highway-mpg        205 non-null    int64  \n",
      " 13  price              205 non-null    float64\n",
      "dtypes: float64(11), int64(3)\n",
      "memory usage: 22.5 KB\n"
     ]
    }
   ],
   "source": [
    "data.info()"
   ]
  },
  {
   "cell_type": "code",
   "execution_count": 60,
   "id": "cd208053",
   "metadata": {},
   "outputs": [
    {
     "data": {
      "text/html": [
       "<div>\n",
       "<style scoped>\n",
       "    .dataframe tbody tr th:only-of-type {\n",
       "        vertical-align: middle;\n",
       "    }\n",
       "\n",
       "    .dataframe tbody tr th {\n",
       "        vertical-align: top;\n",
       "    }\n",
       "\n",
       "    .dataframe thead th {\n",
       "        text-align: right;\n",
       "    }\n",
       "</style>\n",
       "<table border=\"1\" class=\"dataframe\">\n",
       "  <thead>\n",
       "    <tr style=\"text-align: right;\">\n",
       "      <th></th>\n",
       "      <th>symboling</th>\n",
       "      <th>normalized-losses</th>\n",
       "      <th>make</th>\n",
       "      <th>fuel-type</th>\n",
       "      <th>aspiration</th>\n",
       "      <th>body-style</th>\n",
       "      <th>length</th>\n",
       "      <th>width</th>\n",
       "      <th>height</th>\n",
       "      <th>num-of-cylinders</th>\n",
       "      <th>horsepower</th>\n",
       "      <th>city-mpg</th>\n",
       "      <th>highway-mpg</th>\n",
       "      <th>price</th>\n",
       "    </tr>\n",
       "  </thead>\n",
       "  <tbody>\n",
       "    <tr>\n",
       "      <th>0</th>\n",
       "      <td>3</td>\n",
       "      <td>122.0</td>\n",
       "      <td>0.0</td>\n",
       "      <td>1.0</td>\n",
       "      <td>0.0</td>\n",
       "      <td>0.0</td>\n",
       "      <td>168.8</td>\n",
       "      <td>64.1</td>\n",
       "      <td>48.8</td>\n",
       "      <td>2.0</td>\n",
       "      <td>111.0</td>\n",
       "      <td>21</td>\n",
       "      <td>27</td>\n",
       "      <td>13495.0</td>\n",
       "    </tr>\n",
       "    <tr>\n",
       "      <th>1</th>\n",
       "      <td>3</td>\n",
       "      <td>122.0</td>\n",
       "      <td>0.0</td>\n",
       "      <td>1.0</td>\n",
       "      <td>0.0</td>\n",
       "      <td>0.0</td>\n",
       "      <td>168.8</td>\n",
       "      <td>64.1</td>\n",
       "      <td>48.8</td>\n",
       "      <td>2.0</td>\n",
       "      <td>111.0</td>\n",
       "      <td>21</td>\n",
       "      <td>27</td>\n",
       "      <td>16500.0</td>\n",
       "    </tr>\n",
       "    <tr>\n",
       "      <th>2</th>\n",
       "      <td>1</td>\n",
       "      <td>122.0</td>\n",
       "      <td>0.0</td>\n",
       "      <td>1.0</td>\n",
       "      <td>0.0</td>\n",
       "      <td>2.0</td>\n",
       "      <td>171.2</td>\n",
       "      <td>65.5</td>\n",
       "      <td>52.4</td>\n",
       "      <td>3.0</td>\n",
       "      <td>154.0</td>\n",
       "      <td>19</td>\n",
       "      <td>26</td>\n",
       "      <td>16500.0</td>\n",
       "    </tr>\n",
       "    <tr>\n",
       "      <th>3</th>\n",
       "      <td>2</td>\n",
       "      <td>164.0</td>\n",
       "      <td>1.0</td>\n",
       "      <td>1.0</td>\n",
       "      <td>0.0</td>\n",
       "      <td>3.0</td>\n",
       "      <td>176.6</td>\n",
       "      <td>66.2</td>\n",
       "      <td>54.3</td>\n",
       "      <td>2.0</td>\n",
       "      <td>102.0</td>\n",
       "      <td>24</td>\n",
       "      <td>30</td>\n",
       "      <td>13950.0</td>\n",
       "    </tr>\n",
       "    <tr>\n",
       "      <th>4</th>\n",
       "      <td>2</td>\n",
       "      <td>164.0</td>\n",
       "      <td>1.0</td>\n",
       "      <td>1.0</td>\n",
       "      <td>0.0</td>\n",
       "      <td>3.0</td>\n",
       "      <td>176.6</td>\n",
       "      <td>66.4</td>\n",
       "      <td>54.3</td>\n",
       "      <td>1.0</td>\n",
       "      <td>115.0</td>\n",
       "      <td>18</td>\n",
       "      <td>22</td>\n",
       "      <td>17450.0</td>\n",
       "    </tr>\n",
       "  </tbody>\n",
       "</table>\n",
       "</div>"
      ],
      "text/plain": [
       "   symboling  normalized-losses  make  fuel-type  aspiration  body-style  \\\n",
       "0          3              122.0   0.0        1.0         0.0         0.0   \n",
       "1          3              122.0   0.0        1.0         0.0         0.0   \n",
       "2          1              122.0   0.0        1.0         0.0         2.0   \n",
       "3          2              164.0   1.0        1.0         0.0         3.0   \n",
       "4          2              164.0   1.0        1.0         0.0         3.0   \n",
       "\n",
       "   length  width  height  num-of-cylinders  horsepower  city-mpg  highway-mpg  \\\n",
       "0   168.8   64.1    48.8               2.0       111.0        21           27   \n",
       "1   168.8   64.1    48.8               2.0       111.0        21           27   \n",
       "2   171.2   65.5    52.4               3.0       154.0        19           26   \n",
       "3   176.6   66.2    54.3               2.0       102.0        24           30   \n",
       "4   176.6   66.4    54.3               1.0       115.0        18           22   \n",
       "\n",
       "     price  \n",
       "0  13495.0  \n",
       "1  16500.0  \n",
       "2  16500.0  \n",
       "3  13950.0  \n",
       "4  17450.0  "
      ]
     },
     "execution_count": 60,
     "metadata": {},
     "output_type": "execute_result"
    }
   ],
   "source": [
    "data.head()"
   ]
  },
  {
   "cell_type": "code",
   "execution_count": 61,
   "id": "daf959bd",
   "metadata": {},
   "outputs": [
    {
     "data": {
      "image/png": "[encoded data removed]",
      "text/plain": [
       "<Figure size 1200x1200 with 1 Axes>"
      ]
     },
     "metadata": {},
     "output_type": "display_data"
    }
   ],
   "source": [
    "# Set the figure size\n",
    "plt.figure(figsize=(12, 12))  \n",
    "\n",
    "sns.boxplot(data.iloc[:, :-1])\n",
    "plt.xticks(rotation='vertical')\n",
    "plt.show()"
   ]
  },
  {
   "cell_type": "code",
   "execution_count": 62,
   "id": "206c041a",
   "metadata": {},
   "outputs": [],
   "source": [
    "X = data.iloc[:, :-1]\n",
    "y = data.iloc[:, -1]"
   ]
  },
  {
   "cell_type": "code",
   "execution_count": 63,
   "id": "1b810ef1",
   "metadata": {},
   "outputs": [
    {
     "data": {
      "text/plain": [
       "(205, 13)"
      ]
     },
     "execution_count": 63,
     "metadata": {},
     "output_type": "execute_result"
    }
   ],
   "source": [
    "X.shape"
   ]
  },
  {
   "cell_type": "code",
   "execution_count": 64,
   "id": "9fad0566",
   "metadata": {},
   "outputs": [
    {
     "data": {
      "text/plain": [
       "(205,)"
      ]
     },
     "execution_count": 64,
     "metadata": {},
     "output_type": "execute_result"
    }
   ],
   "source": [
    "y.shape\n"
   ]
  },
  {
   "cell_type": "code",
   "execution_count": 65,
   "id": "02fc13bc",
   "metadata": {},
   "outputs": [],
   "source": [
    "from sklearn.model_selection import train_test_split\n",
    "X_train, X_test, y_train, y_test = train_test_split(X, y, test_size = 0.2, random_state = 5)"
   ]
  },
  {
   "cell_type": "code",
   "execution_count": 66,
   "id": "3b9eed73",
   "metadata": {},
   "outputs": [],
   "source": [
    "# For train data\n",
    "from sklearn.preprocessing import StandardScaler\n",
    "ss=StandardScaler()\n",
    "tX_train=ss.fit_transform(X_train)"
   ]
  },
  {
   "cell_type": "code",
   "execution_count": 67,
   "id": "0915fbce",
   "metadata": {},
   "outputs": [],
   "source": [
    "# For test data\n",
    "tX_test=ss.transform(X_test)"
   ]
  },
  {
   "cell_type": "code",
   "execution_count": 68,
   "id": "212109ba",
   "metadata": {},
   "outputs": [
    {
     "name": "stdout",
     "output_type": "stream",
     "text": [
      "(164, 13)\n",
      "(41, 13)\n",
      "(164,)\n",
      "(41,)\n"
     ]
    }
   ],
   "source": [
    "print(X_train.shape)\n",
    "print(X_test.shape)\n",
    "print(y_train.shape)\n",
    "print(y_test.shape)"
   ]
  },
  {
   "cell_type": "code",
   "execution_count": 69,
   "id": "a098fff3",
   "metadata": {},
   "outputs": [],
   "source": [
    "from sklearn.linear_model import SGDRegressor\n",
    "from sklearn.tree import DecisionTreeRegressor\n",
    "from sklearn.linear_model import LinearRegression\n",
    "from sklearn.ensemble import RandomForestRegressor\n",
    "from sklearn.ensemble import GradientBoostingRegressor"
   ]
  },
  {
   "cell_type": "code",
   "execution_count": 70,
   "id": "89a0c70d",
   "metadata": {},
   "outputs": [
    {
     "name": "stdout",
     "output_type": "stream",
     "text": [
      "0.7519855826758448\n",
      "0.8374316149063812\n"
     ]
    }
   ],
   "source": [
    "lr = LinearRegression()\n",
    "lr.fit(tX_train, y_train)\n",
    "print(lr.score(tX_train, y_train))\n",
    "print(lr.score(tX_test, y_test))"
   ]
  },
  {
   "cell_type": "code",
   "execution_count": 71,
   "id": "c1f50f6c",
   "metadata": {},
   "outputs": [
    {
     "name": "stdout",
     "output_type": "stream",
     "text": [
      "0.9944064491714449\n",
      "0.9398579798259311\n"
     ]
    }
   ],
   "source": [
    "dtr=DecisionTreeRegressor()\n",
    "dtr.fit(tX_train,y_train)\n",
    "print(dtr.score(tX_train,y_train))\n",
    "print(dtr.score(tX_test, y_test))"
   ]
  },
  {
   "cell_type": "code",
   "execution_count": 72,
   "id": "603bd139",
   "metadata": {},
   "outputs": [
    {
     "name": "stdout",
     "output_type": "stream",
     "text": [
      "0.74591016602834\n",
      "0.8398169564631022\n"
     ]
    }
   ],
   "source": [
    "sgr=SGDRegressor()\n",
    "sgr.fit(tX_train,y_train)\n",
    "print(sgr.score(tX_train,y_train))\n",
    "print(sgr.score(tX_test, y_test))"
   ]
  },
  {
   "cell_type": "code",
   "execution_count": 73,
   "id": "a8de3695",
   "metadata": {},
   "outputs": [
    {
     "name": "stdout",
     "output_type": "stream",
     "text": [
      "0.9721609593952742\n",
      "0.9773746847589875\n"
     ]
    }
   ],
   "source": [
    "rfr = RandomForestRegressor()\n",
    "rfr.fit(tX_train, y_train)\n",
    "print(rfr.score(tX_train, y_train))\n",
    "print(rfr.score(tX_test, y_test))"
   ]
  },
  {
   "cell_type": "code",
   "execution_count": 74,
   "id": "d8445a2d",
   "metadata": {},
   "outputs": [
    {
     "name": "stdout",
     "output_type": "stream",
     "text": [
      "0.9884385137487863\n",
      "0.9763064972955903\n"
     ]
    }
   ],
   "source": [
    "gbr=GradientBoostingRegressor()\n",
    "gbr.fit(tX_train, y_train)\n",
    "print(gbr.score(tX_train, y_train))\n",
    "print(gbr.score(tX_test, y_test))"
   ]
  },
  {
   "cell_type": "code",
   "execution_count": 75,
   "id": "8379fddd",
   "metadata": {},
   "outputs": [],
   "source": [
    "# select DecisionTreeRegressor as the final model.\n",
    "final_model = dtr"
   ]
  },
  {
   "cell_type": "code",
   "execution_count": 76,
   "id": "69e9a414",
   "metadata": {},
   "outputs": [],
   "source": [
    "y_pred = final_model.predict(tX_test)"
   ]
  },
  {
   "cell_type": "code",
   "execution_count": 77,
   "id": "03ee34f0",
   "metadata": {},
   "outputs": [
    {
     "data": {
      "text/plain": [
       "4108577.4417344173"
      ]
     },
     "execution_count": 77,
     "metadata": {},
     "output_type": "execute_result"
    }
   ],
   "source": [
    "from sklearn import metrics\n",
    "metrics.mean_squared_error(y_test,y_pred)"
   ]
  },
  {
   "cell_type": "code",
   "execution_count": 78,
   "id": "0389c491",
   "metadata": {},
   "outputs": [
    {
     "data": {
      "text/plain": [
       "1504.1138211382115"
      ]
     },
     "execution_count": 78,
     "metadata": {},
     "output_type": "execute_result"
    }
   ],
   "source": [
    "metrics.mean_absolute_error(y_test, y_pred)"
   ]
  },
  {
   "cell_type": "code",
   "execution_count": 79,
   "id": "f0644ae4",
   "metadata": {},
   "outputs": [
    {
     "name": "stdout",
     "output_type": "stream",
     "text": [
      "0.9398579798259311\n"
     ]
    }
   ],
   "source": [
    "print(metrics.r2_score(y_test,y_pred))"
   ]
  },
  {
   "cell_type": "code",
   "execution_count": 80,
   "id": "354ddf23",
   "metadata": {},
   "outputs": [
    {
     "name": "stdout",
     "output_type": "stream",
     "text": [
      "Train Score Ridge linear Regression: 0.7422415664441688\n",
      "Test Score Ridge linear Regression: 0.831634379448663\n"
     ]
    }
   ],
   "source": [
    "from sklearn.linear_model import Ridge\n",
    "from sklearn.model_selection import GridSearchCV\n",
    "\n",
    "# Regularized linear regression\n",
    "ridge = Ridge()\n",
    "parameters = {'alpha': [0.1, 1.0, 10.0]}  \n",
    "grid_search = GridSearchCV(ridge, parameters, cv=5)\n",
    "grid_search.fit(tX_train, y_train)\n",
    "\n",
    "# Evaluate model performance\n",
    "best_ridge = grid_search.best_estimator_\n",
    "train_score = best_ridge.score(tX_train, y_train)\n",
    "test_score = best_ridge.score(tX_test, y_test)\n",
    "\n",
    "print(\"Train Score Ridge linear Regression:\" ,train_score)\n",
    "print(\"Test Score Ridge linear Regression:\",test_score)"
   ]
  },
  {
   "cell_type": "code",
   "execution_count": 81,
   "id": "7530f880",
   "metadata": {},
   "outputs": [
    {
     "name": "stdout",
     "output_type": "stream",
     "text": [
      "Train Score decision tree:  0.9508089535461981\n",
      "Test Score decision tree:  0.9331211865001818\n"
     ]
    }
   ],
   "source": [
    "from sklearn.tree import DecisionTreeRegressor\n",
    "from sklearn.model_selection import GridSearchCV\n",
    "\n",
    "dtr = DecisionTreeRegressor()\n",
    "\n",
    "# Define the hyperparameters \n",
    "param_grid = {\n",
    "    'max_depth': [None, 5, 10],  # Maximum depth \n",
    "    'min_samples_split': [2, 5, 10],  # Minimum number of samples \n",
    "    'min_samples_leaf': [1, 2, 4],  # Minimum number of samples required at leaf node\n",
    "}\n",
    "\n",
    "# Perform GridSearchCV to find the best hyperparameters\n",
    "grid_search = GridSearchCV(dtr, param_grid, cv=5)\n",
    "grid_search.fit(tX_train, y_train)\n",
    "\n",
    "# best estimator\n",
    "best_dtr = grid_search.best_estimator_\n",
    "\n",
    "# model performance\n",
    "train_score = best_dtr.score(tX_train, y_train)\n",
    "test_score = best_dtr.score(tX_test, y_test)\n",
    "\n",
    "print(\"Train Score decision tree: \",train_score)\n",
    "print(\"Test Score decision tree: \",test_score)"
   ]
  },
  {
   "cell_type": "code",
   "execution_count": 82,
   "id": "9b3f64e5",
   "metadata": {},
   "outputs": [
    {
     "name": "stdout",
     "output_type": "stream",
     "text": [
      "Train Score SGD regressor:  0.7310440702892842\n",
      "Test Score SGD regressor:  0.8330609312500254\n"
     ]
    }
   ],
   "source": [
    "from sklearn.linear_model import SGDRegressor\n",
    "from sklearn.model_selection import GridSearchCV\n",
    "\n",
    "sgr = SGDRegressor()\n",
    "\n",
    "# Define the hyperparameters \n",
    "param_grid = {\n",
    "    'alpha': [0.0001, 0.001, 0.01],  # Regularization parameter\n",
    "    'max_iter': [1000, 2000, 3000],  \n",
    "    'learning_rate': ['constant', 'adaptive'],  \n",
    "}\n",
    "\n",
    "# Perform GridSearchCV to find the best hyperparameters\n",
    "grid_search = GridSearchCV(sgr, param_grid, cv=5)\n",
    "grid_search.fit(tX_train, y_train)\n",
    "\n",
    "# Get the best estimator\n",
    "best_sgr = grid_search.best_estimator_\n",
    "\n",
    "# Evaluate model performance\n",
    "train_score = best_sgr.score(tX_train, y_train)\n",
    "test_score = best_sgr.score(tX_test, y_test)\n",
    "\n",
    "print(\"Train Score SGD regressor: \",train_score)\n",
    "print(\"Test Score SGD regressor: \",test_score)"
   ]
  },
  {
   "cell_type": "code",
   "execution_count": 83,
   "id": "1a9c2e77",
   "metadata": {},
   "outputs": [
    {
     "name": "stdout",
     "output_type": "stream",
     "text": [
      "Train Score Random Forest regressor:  0.9699811015159613\n",
      "Test Score Random Forest regressor:  0.9778856150572295\n"
     ]
    }
   ],
   "source": [
    "from sklearn.ensemble import RandomForestRegressor\n",
    "from sklearn.model_selection import GridSearchCV\n",
    "\n",
    "rfr = RandomForestRegressor()\n",
    "\n",
    "# Define the hyperparameters \n",
    "param_grid = {\n",
    "    'n_estimators': [100, 200, 300],  # Number of trees in the forest\n",
    "    'max_depth': [None, 5, 10],  # Maximum depth \n",
    "    'min_samples_split': [2, 5, 10],  # Minimum number of samples to split an internal node\n",
    "    'min_samples_leaf': [1, 2, 4],  # Minimum number of samples required to be at a leaf node\n",
    "}\n",
    "\n",
    "grid_search = GridSearchCV(rfr, param_grid, cv=5)\n",
    "grid_search.fit(tX_train, y_train)\n",
    "\n",
    "# Get the best estimator\n",
    "best_rfr = grid_search.best_estimator_\n",
    "\n",
    "# Evaluate model performance\n",
    "train_score = best_rfr.score(tX_train, y_train)\n",
    "test_score = best_rfr.score(tX_test, y_test)\n",
    "\n",
    "print(\"Train Score Random Forest regressor: \",train_score)\n",
    "print(\"Test Score Random Forest regressor: \",test_score)"
   ]
  },
  {
   "cell_type": "code",
   "execution_count": 84,
   "id": "e07cbd1c",
   "metadata": {},
   "outputs": [
    {
     "name": "stdout",
     "output_type": "stream",
     "text": [
      "Train Score Gradient Boost regressor:  0.9927715341497481\n",
      "Test Score Gradient Boost regressor:  0.9810182496924423\n"
     ]
    }
   ],
   "source": [
    "from sklearn.ensemble import GradientBoostingRegressor\n",
    "from sklearn.model_selection import GridSearchCV\n",
    "\n",
    "gbr=GradientBoostingRegressor()\n",
    "\n",
    "# Define the hyperparameters\n",
    "param_grid={\n",
    "    'n_estimators':[100,200,300],\n",
    "    'max_depth':[None,5,10],\n",
    "    'min_samples_split':[2,5,10],\n",
    "    'min_samples_leaf':[1,2,4]\n",
    "}\n",
    "\n",
    "grid_search=GridSearchCV(gbr,param_grid,cv=5)\n",
    "grid_search.fit(tX_train,y_train)\n",
    "\n",
    "# Get the best estimator\n",
    "best_gbr=grid_search.best_estimator_\n",
    "\n",
    "# Evaluate model performance\n",
    "train_score=best_gbr.score(tX_train,y_train)\n",
    "test_score=best_gbr.score(tX_test,y_test)\n",
    "\n",
    "print(\"Train Score Gradient Boost regressor: \",train_score)\n",
    "print(\"Test Score Gradient Boost regressor: \",test_score)"
   ]
  },
  {
   "cell_type": "code",
   "execution_count": 85,
   "id": "ae4e9086",
   "metadata": {},
   "outputs": [
    {
     "name": "stdout",
     "output_type": "stream",
     "text": [
      "Train Score Gradient Boost regressor:  0.9926080368437481\n",
      "Test Score Gradient Boost regressor:  0.9771580350640676\n"
     ]
    }
   ],
   "source": [
    "from sklearn.ensemble import GradientBoostingRegressor\n",
    "from sklearn.pipeline import Pipeline\n",
    "from sklearn.model_selection import GridSearchCV\n",
    "from sklearn.preprocessing import StandardScaler\n",
    "\n",
    "# Create the pipeline\n",
    "pipeline = Pipeline([\n",
    "    ('scaler', StandardScaler()),  # Feature scaling\n",
    "    ('gbr', GradientBoostingRegressor())  # GradientBoostingRegressor \n",
    "])\n",
    "\n",
    "# Define the hyperparameters \n",
    "param_grid = {\n",
    "    'gbr__n_estimators': [100, 200, 300],  \n",
    "    'gbr__learning_rate': [0.1, 0.01, 0.001],  \n",
    "    'gbr__max_depth': [3, 5, 7],  \n",
    "    'gbr__min_samples_split': [2, 5, 10],  \n",
    "    'gbr__min_samples_leaf': [1, 2, 4],  \n",
    "}\n",
    "\n",
    "# Perform GridSearchCV \n",
    "grid_search = GridSearchCV(pipeline, param_grid, cv=5)\n",
    "grid_search.fit(X_train, y_train)\n",
    "\n",
    "# Get the best estimator\n",
    "best_model = grid_search.best_estimator_\n",
    "\n",
    "# Evaluate model performance\n",
    "train_score = best_model.score(X_train, y_train)\n",
    "test_score = best_model.score(X_test, y_test)\n",
    "\n",
    "\n",
    "print(\"Train Score Gradient Boost regressor: \",train_score)\n",
    "print(\"Test Score Gradient Boost regressor: \",test_score)"
   ]
  },
  {
   "cell_type": "code",
   "execution_count": null,
   "id": "e43e83e0",
   "metadata": {},
   "outputs": [],
   "source": []
  }
 ],
 "metadata": {
  "kernelspec": {
   "display_name": "Python 3 (ipykernel)",
   "language": "python",
   "name": "python3"
  },
  "language_info": {
   "codemirror_mode": {
    "name": "ipython",
    "version": 3
   },
   "file_extension": ".py",
   "mimetype": "text/x-python",
   "name": "python",
   "nbconvert_exporter": "python",
   "pygments_lexer": "ipython3",
   "version": "3.11.0"
  }
 },
 "nbformat": 4,
 "nbformat_minor": 5
}
